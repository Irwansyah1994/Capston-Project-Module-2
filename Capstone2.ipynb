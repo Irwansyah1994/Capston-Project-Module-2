{
 "cells": [
  {
   "cell_type": "markdown",
   "metadata": {},
   "source": [
    "# Pernyataan Masalah\n",
    "Perusahaan SaaS merupakan sebuah perusahaan yang bergerak dalam bidang pembuatan software penjualan dan pemasaran ke perusahaan lain (B2B). Mereka mempekerjakan seorang data saintist untuk menganalisa kumpulan data transaksi. Data saintist tersebut di tantang untuk menyediakan beberapa analisa yang nantinya digunakan sebagai strategi-strategi dengan tujuan meningkatkan kinerja perusahaan di masa mendatang."
   ]
  },
  {
   "cell_type": "markdown",
   "metadata": {},
   "source": [
    "# Mengimport beberapa fungsi\n",
    "Langkah awal yang harus dilakukan adalah \"mengimport\" beberapa fungsi yang nantinya berguna untuk analisa database."
   ]
  },
  {
   "cell_type": "code",
   "execution_count": 113,
   "metadata": {
    "scrolled": true
   },
   "outputs": [],
   "source": [
    "#Import function\n",
    "import pandas as pd\n",
    "import numpy as np\n",
    "import matplotlib.pyplot as plt\n",
    "import seaborn as sns\n",
    "import folium\n",
    "from geopy.geocoders import Nominatim\n",
    "import matplotlib.dates as mdates\n",
    "# import plotly.express as px\n",
    "# from scipy.stats import normaltest, chi2_contingency, mannwhitneyu, ttest_ind\n",
    "\n",
    "import warnings\n",
    "warnings.filterwarnings(\"ignore\")"
   ]
  },
  {
   "cell_type": "code",
   "execution_count": 114,
   "metadata": {},
   "outputs": [
    {
     "name": "stdout",
     "output_type": "stream",
     "text": [
      "Requirement already satisfied: geopy in c:\\users\\irwansyah ramadhani\\anaconda3\\lib\\site-packages (2.4.1)\n",
      "Requirement already satisfied: geographiclib<3,>=1.52 in c:\\users\\irwansyah ramadhani\\anaconda3\\lib\\site-packages (from geopy) (2.0)\n"
     ]
    }
   ],
   "source": [
    "!pip install geopy"
   ]
  },
  {
   "cell_type": "code",
   "execution_count": 115,
   "metadata": {},
   "outputs": [
    {
     "name": "stdout",
     "output_type": "stream",
     "text": [
      "Requirement already satisfied: folium in c:\\users\\irwansyah ramadhani\\anaconda3\\lib\\site-packages (0.16.0)\n",
      "Requirement already satisfied: branca>=0.6.0 in c:\\users\\irwansyah ramadhani\\anaconda3\\lib\\site-packages (from folium) (0.7.1)\n",
      "Requirement already satisfied: xyzservices in c:\\users\\irwansyah ramadhani\\anaconda3\\lib\\site-packages (from folium) (2024.4.0)\n",
      "Requirement already satisfied: jinja2>=2.9 in c:\\users\\irwansyah ramadhani\\anaconda3\\lib\\site-packages (from folium) (2.11.2)\n",
      "Requirement already satisfied: requests in c:\\users\\irwansyah ramadhani\\anaconda3\\lib\\site-packages (from folium) (2.24.0)\n",
      "Requirement already satisfied: numpy in c:\\users\\irwansyah ramadhani\\anaconda3\\lib\\site-packages (from folium) (1.19.2)\n",
      "Requirement already satisfied: MarkupSafe>=0.23 in c:\\users\\irwansyah ramadhani\\anaconda3\\lib\\site-packages (from jinja2>=2.9->folium) (1.1.1)\n",
      "Requirement already satisfied: idna<3,>=2.5 in c:\\users\\irwansyah ramadhani\\anaconda3\\lib\\site-packages (from requests->folium) (2.10)\n",
      "Requirement already satisfied: chardet<4,>=3.0.2 in c:\\users\\irwansyah ramadhani\\anaconda3\\lib\\site-packages (from requests->folium) (3.0.4)\n",
      "Requirement already satisfied: urllib3!=1.25.0,!=1.25.1,<1.26,>=1.21.1 in c:\\users\\irwansyah ramadhani\\anaconda3\\lib\\site-packages (from requests->folium) (1.25.11)\n",
      "Requirement already satisfied: certifi>=2017.4.17 in c:\\users\\irwansyah ramadhani\\anaconda3\\lib\\site-packages (from requests->folium) (2020.6.20)\n"
     ]
    }
   ],
   "source": [
    "!pip install folium"
   ]
  },
  {
   "cell_type": "markdown",
   "metadata": {},
   "source": [
    "# Mengakses database dengan format .csv\n",
    "Database akan diaksed dan akan ditampilkan 5 data teratas"
   ]
  },
  {
   "cell_type": "code",
   "execution_count": 124,
   "metadata": {},
   "outputs": [],
   "source": [
    "#Read database\n",
    "df = pd.read_csv(\"SaaS_Sales.csv\")"
   ]
  },
  {
   "cell_type": "markdown",
   "metadata": {},
   "source": [
    "# Informasi umum mengenai database\n",
    "Untuk mengetahui informasi apa saja yang ada dalam database, maka terlebih dahulu dilakukan display informasi database"
   ]
  },
  {
   "cell_type": "code",
   "execution_count": 125,
   "metadata": {},
   "outputs": [
    {
     "name": "stdout",
     "output_type": "stream",
     "text": [
      "<class 'pandas.core.frame.DataFrame'>\n",
      "RangeIndex: 9994 entries, 0 to 9993\n",
      "Data columns (total 19 columns):\n",
      " #   Column        Non-Null Count  Dtype  \n",
      "---  ------        --------------  -----  \n",
      " 0   Row ID        9994 non-null   int64  \n",
      " 1   Order ID      9994 non-null   object \n",
      " 2   Order Date    9994 non-null   object \n",
      " 3   Date Key      9994 non-null   int64  \n",
      " 4   Contact Name  9994 non-null   object \n",
      " 5   Country       9994 non-null   object \n",
      " 6   City          9994 non-null   object \n",
      " 7   Region        9994 non-null   object \n",
      " 8   Subregion     9994 non-null   object \n",
      " 9   Customer      9994 non-null   object \n",
      " 10  Customer ID   9994 non-null   int64  \n",
      " 11  Industry      9994 non-null   object \n",
      " 12  Segment       9994 non-null   object \n",
      " 13  Product       9994 non-null   object \n",
      " 14  License       9994 non-null   object \n",
      " 15  Sales         9994 non-null   float64\n",
      " 16  Quantity      9994 non-null   int64  \n",
      " 17  Discount      9994 non-null   float64\n",
      " 18  Profit        9994 non-null   float64\n",
      "dtypes: float64(3), int64(4), object(12)\n",
      "memory usage: 1.4+ MB\n"
     ]
    }
   ],
   "source": [
    "df.info()"
   ]
  },
  {
   "cell_type": "markdown",
   "metadata": {},
   "source": [
    "# Informasi Database diatas\n",
    "database ini mengandung 19 kolom dengan detail sebagai berikut:\n",
    "1. Row ID: A unique identifier for each transaction.\n",
    "2. Order ID: A unique identifier for each order.\n",
    "3. Order Date: The date when the order was placed.\n",
    "4. Date Key: A numerical representation of the order date (YYYYMMDD).\n",
    "5. Contact Name: The name of the person who placed the order.\n",
    "6. Country: The country where the order was placed.\n",
    "7. City: The city where the order was placed.\n",
    "8. Region: The region where the order was placed.\n",
    "9. Subregion: The subregion where the order was placed.\n",
    "10. Customer: The name of the company that placed the order.\n",
    "11. Customer ID: A unique identifier for each customer.\n",
    "12. Industry: The industry the customer belongs to.\n",
    "13. Segment: The customer segment (SMB, Strategic, Enterprise, etc.).\n",
    "14. Product: The product was ordered.\n",
    "15. License: The license key for the product.\n",
    "16. Sales: The total sales amount for the transaction.\n",
    "17. Quantity: The total number of items in the transaction.\n",
    "18. Discount: The discount applied to the transaction.\n",
    "19. Profit: The profit from the transaction."
   ]
  },
  {
   "cell_type": "markdown",
   "metadata": {},
   "source": [
    "# Analisa Anomali\n",
    "Setelah mengetahui infromasi mengenai data diatas, maka dilakukan beberapa analisa anomali:\n",
    "1. Analisa \"Missing Value\"\n",
    "2. Analisa \"Inconsistancy\"\n",
    "3. Analisa \"Outliers\"\n",
    "4. Analisa \"duplicates\""
   ]
  },
  {
   "cell_type": "code",
   "execution_count": 126,
   "metadata": {},
   "outputs": [
    {
     "data": {
      "text/plain": [
       "Row ID          0\n",
       "Order ID        0\n",
       "Order Date      0\n",
       "Date Key        0\n",
       "Contact Name    0\n",
       "Country         0\n",
       "City            0\n",
       "Region          0\n",
       "Subregion       0\n",
       "Customer        0\n",
       "Customer ID     0\n",
       "Industry        0\n",
       "Segment         0\n",
       "Product         0\n",
       "License         0\n",
       "Sales           0\n",
       "Quantity        0\n",
       "Discount        0\n",
       "Profit          0\n",
       "dtype: int64"
      ]
     },
     "execution_count": 126,
     "metadata": {},
     "output_type": "execute_result"
    }
   ],
   "source": [
    "#Analisa \"Missing Value\"\n",
    "df.isnull().sum()"
   ]
  },
  {
   "cell_type": "code",
   "execution_count": 127,
   "metadata": {},
   "outputs": [
    {
     "name": "stdout",
     "output_type": "stream",
     "text": [
      "<class 'pandas.core.frame.DataFrame'>\n",
      "RangeIndex: 9994 entries, 0 to 9993\n",
      "Data columns (total 19 columns):\n",
      " #   Column        Non-Null Count  Dtype  \n",
      "---  ------        --------------  -----  \n",
      " 0   Row ID        9994 non-null   int64  \n",
      " 1   Order ID      9994 non-null   object \n",
      " 2   Order Date    9994 non-null   object \n",
      " 3   Date Key      9994 non-null   int64  \n",
      " 4   Contact Name  9994 non-null   object \n",
      " 5   Country       9994 non-null   object \n",
      " 6   City          9994 non-null   object \n",
      " 7   Region        9994 non-null   object \n",
      " 8   Subregion     9994 non-null   object \n",
      " 9   Customer      9994 non-null   object \n",
      " 10  Customer ID   9994 non-null   int64  \n",
      " 11  Industry      9994 non-null   object \n",
      " 12  Segment       9994 non-null   object \n",
      " 13  Product       9994 non-null   object \n",
      " 14  License       9994 non-null   object \n",
      " 15  Sales         9994 non-null   float64\n",
      " 16  Quantity      9994 non-null   int64  \n",
      " 17  Discount      9994 non-null   float64\n",
      " 18  Profit        9994 non-null   float64\n",
      "dtypes: float64(3), int64(4), object(12)\n",
      "memory usage: 1.4+ MB\n"
     ]
    }
   ],
   "source": [
    "df.info()"
   ]
  },
  {
   "cell_type": "code",
   "execution_count": 128,
   "metadata": {},
   "outputs": [
    {
     "name": "stdout",
     "output_type": "stream",
     "text": [
      "<class 'pandas.core.frame.DataFrame'>\n",
      "RangeIndex: 9994 entries, 0 to 9993\n",
      "Data columns (total 19 columns):\n",
      " #   Column        Non-Null Count  Dtype         \n",
      "---  ------        --------------  -----         \n",
      " 0   Row ID        9994 non-null   int64         \n",
      " 1   Order ID      9994 non-null   object        \n",
      " 2   Order Date    9994 non-null   datetime64[ns]\n",
      " 3   Date Key      9994 non-null   int64         \n",
      " 4   Contact Name  9994 non-null   object        \n",
      " 5   Country       9994 non-null   object        \n",
      " 6   City          9994 non-null   object        \n",
      " 7   Region        9994 non-null   object        \n",
      " 8   Subregion     9994 non-null   object        \n",
      " 9   Customer      9994 non-null   object        \n",
      " 10  Customer ID   9994 non-null   int64         \n",
      " 11  Industry      9994 non-null   object        \n",
      " 12  Segment       9994 non-null   object        \n",
      " 13  Product       9994 non-null   object        \n",
      " 14  License       9994 non-null   object        \n",
      " 15  Sales         9994 non-null   float64       \n",
      " 16  Quantity      9994 non-null   int64         \n",
      " 17  Discount      9994 non-null   float64       \n",
      " 18  Profit        9994 non-null   float64       \n",
      "dtypes: datetime64[ns](1), float64(3), int64(4), object(11)\n",
      "memory usage: 1.4+ MB\n"
     ]
    }
   ],
   "source": [
    "#Analisa \"Consistancy\": Pada data di atas, terdapat inconsistancy pada tipe data yaitu \"order date\" \n",
    "#memiliki tipe data \"object\". Seharusnya tipe datanya adalah \"datetime64\"\n",
    "df[['Order Date']] = df[['Order Date']].astype('datetime64[ns]')\n",
    "df.info()"
   ]
  },
  {
   "cell_type": "code",
   "execution_count": 129,
   "metadata": {},
   "outputs": [
    {
     "data": {
      "text/plain": [
       "0"
      ]
     },
     "execution_count": 129,
     "metadata": {},
     "output_type": "execute_result"
    }
   ],
   "source": [
    "# Analisa \"duplicates data\"\n",
    "df.duplicated().sum()"
   ]
  },
  {
   "cell_type": "code",
   "execution_count": 130,
   "metadata": {},
   "outputs": [],
   "source": [
    "# Q1 = df.describe()['Profit']['25%']\n",
    "# Q3 = df.describe()['Profit']['75%']\n",
    "# IQR = Q3 - Q1\n",
    "# lowerProfit = Q1 - (1.5*IQR)\n",
    "# upperProfit = Q3 + (1.5*IQR)\n",
    "\n",
    "# outlier_index = df[(df['Profit']<lowerProfit)|(df['Profit']>upperProfit)]\n",
    "# outlier_index"
   ]
  },
  {
   "cell_type": "code",
   "execution_count": 131,
   "metadata": {},
   "outputs": [],
   "source": [
    "# plt.figure(figsize=(15,10))\n",
    "# sns.distplot(df['Profit'])\n",
    "# plt.show()"
   ]
  },
  {
   "cell_type": "markdown",
   "metadata": {},
   "source": [
    "# Menghapus data yang tidak diperlukan"
   ]
  },
  {
   "cell_type": "code",
   "execution_count": 132,
   "metadata": {},
   "outputs": [
    {
     "data": {
      "text/html": [
       "<div>\n",
       "<style scoped>\n",
       "    .dataframe tbody tr th:only-of-type {\n",
       "        vertical-align: middle;\n",
       "    }\n",
       "\n",
       "    .dataframe tbody tr th {\n",
       "        vertical-align: top;\n",
       "    }\n",
       "\n",
       "    .dataframe thead th {\n",
       "        text-align: right;\n",
       "    }\n",
       "</style>\n",
       "<table border=\"1\" class=\"dataframe\">\n",
       "  <thead>\n",
       "    <tr style=\"text-align: right;\">\n",
       "      <th></th>\n",
       "      <th>Row ID</th>\n",
       "      <th>Order ID</th>\n",
       "      <th>Order Date</th>\n",
       "      <th>Date Key</th>\n",
       "      <th>Contact Name</th>\n",
       "      <th>Country</th>\n",
       "      <th>City</th>\n",
       "      <th>Region</th>\n",
       "      <th>Subregion</th>\n",
       "      <th>Customer</th>\n",
       "      <th>Customer ID</th>\n",
       "      <th>Industry</th>\n",
       "      <th>Segment</th>\n",
       "      <th>Product</th>\n",
       "      <th>License</th>\n",
       "      <th>Sales</th>\n",
       "      <th>Quantity</th>\n",
       "      <th>Discount</th>\n",
       "      <th>Profit</th>\n",
       "    </tr>\n",
       "  </thead>\n",
       "  <tbody>\n",
       "  </tbody>\n",
       "</table>\n",
       "</div>"
      ],
      "text/plain": [
       "Empty DataFrame\n",
       "Columns: [Row ID, Order ID, Order Date, Date Key, Contact Name, Country, City, Region, Subregion, Customer, Customer ID, Industry, Segment, Product, License, Sales, Quantity, Discount, Profit]\n",
       "Index: []"
      ]
     },
     "execution_count": 132,
     "metadata": {},
     "output_type": "execute_result"
    }
   ],
   "source": [
    "df.head(0)"
   ]
  },
  {
   "cell_type": "code",
   "execution_count": 133,
   "metadata": {},
   "outputs": [
    {
     "data": {
      "text/html": [
       "<div>\n",
       "<style scoped>\n",
       "    .dataframe tbody tr th:only-of-type {\n",
       "        vertical-align: middle;\n",
       "    }\n",
       "\n",
       "    .dataframe tbody tr th {\n",
       "        vertical-align: top;\n",
       "    }\n",
       "\n",
       "    .dataframe thead th {\n",
       "        text-align: right;\n",
       "    }\n",
       "</style>\n",
       "<table border=\"1\" class=\"dataframe\">\n",
       "  <thead>\n",
       "    <tr style=\"text-align: right;\">\n",
       "      <th></th>\n",
       "      <th>Order ID</th>\n",
       "      <th>Order Date</th>\n",
       "      <th>Country</th>\n",
       "      <th>City</th>\n",
       "      <th>Region</th>\n",
       "      <th>Subregion</th>\n",
       "      <th>Customer</th>\n",
       "      <th>Customer ID</th>\n",
       "      <th>Industry</th>\n",
       "      <th>Segment</th>\n",
       "      <th>Product</th>\n",
       "      <th>License</th>\n",
       "      <th>Sales</th>\n",
       "      <th>Quantity</th>\n",
       "      <th>Discount</th>\n",
       "      <th>Profit</th>\n",
       "    </tr>\n",
       "  </thead>\n",
       "  <tbody>\n",
       "  </tbody>\n",
       "</table>\n",
       "</div>"
      ],
      "text/plain": [
       "Empty DataFrame\n",
       "Columns: [Order ID, Order Date, Country, City, Region, Subregion, Customer, Customer ID, Industry, Segment, Product, License, Sales, Quantity, Discount, Profit]\n",
       "Index: []"
      ]
     },
     "execution_count": 133,
     "metadata": {},
     "output_type": "execute_result"
    }
   ],
   "source": [
    "df.drop('Row ID',axis = 1,inplace = True)\n",
    "df.drop('Date Key',axis = 1,inplace = True)\n",
    "df.drop('Contact Name',axis = 1,inplace = True)\n",
    "df.head(0)"
   ]
  },
  {
   "cell_type": "markdown",
   "metadata": {},
   "source": [
    "# Analisa Segmen Pelanggan\n",
    "Analisa pertama yang akan dilakukan adalah analisa segmen pelanggan. Analisa yang akan dilakukan adalah analisis kinerja dan karakteristik penjualan di berbagai segmen pelanggan"
   ]
  },
  {
   "cell_type": "code",
   "execution_count": 76,
   "metadata": {
    "scrolled": true
   },
   "outputs": [
    {
     "data": {
      "text/html": [
       "<div>\n",
       "<style scoped>\n",
       "    .dataframe tbody tr th:only-of-type {\n",
       "        vertical-align: middle;\n",
       "    }\n",
       "\n",
       "    .dataframe tbody tr th {\n",
       "        vertical-align: top;\n",
       "    }\n",
       "\n",
       "    .dataframe thead th {\n",
       "        text-align: right;\n",
       "    }\n",
       "</style>\n",
       "<table border=\"1\" class=\"dataframe\">\n",
       "  <thead>\n",
       "    <tr style=\"text-align: right;\">\n",
       "      <th></th>\n",
       "      <th>Sales</th>\n",
       "      <th>Quantity</th>\n",
       "      <th>Profit</th>\n",
       "    </tr>\n",
       "    <tr>\n",
       "      <th>Segment</th>\n",
       "      <th></th>\n",
       "      <th></th>\n",
       "      <th></th>\n",
       "    </tr>\n",
       "  </thead>\n",
       "  <tbody>\n",
       "    <tr>\n",
       "      <th>SMB</th>\n",
       "      <td>1.161401e+06</td>\n",
       "      <td>19521</td>\n",
       "      <td>134119.2092</td>\n",
       "    </tr>\n",
       "    <tr>\n",
       "      <th>Strategic</th>\n",
       "      <td>7.061464e+05</td>\n",
       "      <td>11608</td>\n",
       "      <td>91979.1340</td>\n",
       "    </tr>\n",
       "    <tr>\n",
       "      <th>Enterprise</th>\n",
       "      <td>4.296531e+05</td>\n",
       "      <td>6744</td>\n",
       "      <td>60298.6785</td>\n",
       "    </tr>\n",
       "  </tbody>\n",
       "</table>\n",
       "</div>"
      ],
      "text/plain": [
       "                   Sales  Quantity       Profit\n",
       "Segment                                        \n",
       "SMB         1.161401e+06     19521  134119.2092\n",
       "Strategic   7.061464e+05     11608   91979.1340\n",
       "Enterprise  4.296531e+05      6744   60298.6785"
      ]
     },
     "execution_count": 76,
     "metadata": {},
     "output_type": "execute_result"
    }
   ],
   "source": [
    "# Mengelompokkan penjualan, profit, diskon berdasarkan segment pelanggan\n",
    "dfSegment = df.groupby('Segment')[['Sales','Quantity','Profit']].sum()\n",
    "dfSegment.sort_values('Sales',ascending = False)"
   ]
  },
  {
   "cell_type": "raw",
   "metadata": {},
   "source": [
    "Dari data di atas, diketahui bahwa segment SMB (Small to Medium Bussiness) memilikit total penjualan dan profit tertinggi. Kemudian dilakukan analisa retensi pelanggan yaitu kemampuan suatu segment untuk mempertahankan pelanggannya selama periode waktu tertentu."
   ]
  },
  {
   "cell_type": "code",
   "execution_count": 77,
   "metadata": {},
   "outputs": [
    {
     "data": {
      "image/png": "[encoded data removed]",
      "text/plain": [
       "<Figure size 720x432 with 1 Axes>"
      ]
     },
     "metadata": {
      "needs_background": "light"
     },
     "output_type": "display_data"
    }
   ],
   "source": [
    "# Kita akan mengamati hubungan antara segmen dan ID pelanggan\n",
    "customerID = df.groupby('Segment')['Customer ID'].nunique()\n",
    "totalCustomers = customerID.sum()\n",
    "retentionRates = (customerID / totalCustomers) * 100\n",
    "\n",
    "plt.figure(figsize=(10, 6))\n",
    "sns.barplot(x=retentionRates.index, y=retentionRates.values)\n",
    "plt.title('Tingkat Retensi Pelanggan berdasarkan Segmen')\n",
    "plt.xlabel('Segment')\n",
    "plt.ylabel('Retensi (%)')\n",
    "plt.show()\n"
   ]
  },
  {
   "cell_type": "raw",
   "metadata": {},
   "source": [
    "Dari data di atas, diketahui bahwa SMB adalah segment dengan laju Retensi yang terbesar, yaitu 36%. Laju retensi yang besar bermakna suatu bisnis mengalami pengurangan pelanggan yang rendah, dimana sebagian besar pelanggan kembali atau melakukan pembelian berulang dari waktu ke waktu. Hal ini mendukung tingkat total penjualan dan profit tertinggi."
   ]
  },
  {
   "cell_type": "raw",
   "metadata": {},
   "source": [
    "Selanjutnya, dilakukan analisa frekuensi Pemesanan berdasarkan Segmen. Analisa ini dilakukan untuk mengetahui frekuensi pemesanan dari masing-masing segment"
   ]
  },
  {
   "cell_type": "code",
   "execution_count": 78,
   "metadata": {},
   "outputs": [
    {
     "data": {
      "image/png": "[encoded data removed]",
      "text/plain": [
       "<Figure size 720x432 with 1 Axes>"
      ]
     },
     "metadata": {
      "needs_background": "light"
     },
     "output_type": "display_data"
    }
   ],
   "source": [
    "orderID = df.groupby('Segment')['Order ID'].nunique()\n",
    "\n",
    "plt.figure(figsize=(10, 6))\n",
    "sns.barplot(x=orderID.index, y=orderID.values)\n",
    "plt.title('Frekuensi Pemesanan berdasarkan Segment')\n",
    "plt.xlabel('Segment')\n",
    "plt.ylabel('Jumlah Order')\n",
    "plt.show()\n"
   ]
  },
  {
   "cell_type": "raw",
   "metadata": {},
   "source": [
    "Selanjutnya dilakukan analisa 3 produk teratas yang dipesan pada segmen SMB."
   ]
  },
  {
   "cell_type": "code",
   "execution_count": 79,
   "metadata": {},
   "outputs": [
    {
     "data": {
      "text/html": [
       "<div>\n",
       "<style scoped>\n",
       "    .dataframe tbody tr th:only-of-type {\n",
       "        vertical-align: middle;\n",
       "    }\n",
       "\n",
       "    .dataframe tbody tr th {\n",
       "        vertical-align: top;\n",
       "    }\n",
       "\n",
       "    .dataframe thead th {\n",
       "        text-align: right;\n",
       "    }\n",
       "</style>\n",
       "<table border=\"1\" class=\"dataframe\">\n",
       "  <thead>\n",
       "    <tr style=\"text-align: right;\">\n",
       "      <th></th>\n",
       "      <th>index</th>\n",
       "      <th>Segment</th>\n",
       "      <th>Product</th>\n",
       "      <th>Quantity</th>\n",
       "    </tr>\n",
       "  </thead>\n",
       "  <tbody>\n",
       "    <tr>\n",
       "      <th>0</th>\n",
       "      <td>17</td>\n",
       "      <td>SMB</td>\n",
       "      <td>ContactMatcher</td>\n",
       "      <td>3617</td>\n",
       "    </tr>\n",
       "    <tr>\n",
       "      <th>1</th>\n",
       "      <td>27</td>\n",
       "      <td>SMB</td>\n",
       "      <td>Support</td>\n",
       "      <td>2961</td>\n",
       "    </tr>\n",
       "    <tr>\n",
       "      <th>2</th>\n",
       "      <td>31</td>\n",
       "      <td>Strategic</td>\n",
       "      <td>ContactMatcher</td>\n",
       "      <td>2267</td>\n",
       "    </tr>\n",
       "    <tr>\n",
       "      <th>3</th>\n",
       "      <td>19</td>\n",
       "      <td>SMB</td>\n",
       "      <td>FinanceHub</td>\n",
       "      <td>1949</td>\n",
       "    </tr>\n",
       "    <tr>\n",
       "      <th>4</th>\n",
       "      <td>23</td>\n",
       "      <td>SMB</td>\n",
       "      <td>SaaS Connector Pack</td>\n",
       "      <td>1834</td>\n",
       "    </tr>\n",
       "    <tr>\n",
       "      <th>5</th>\n",
       "      <td>41</td>\n",
       "      <td>Strategic</td>\n",
       "      <td>Support</td>\n",
       "      <td>1757</td>\n",
       "    </tr>\n",
       "    <tr>\n",
       "      <th>6</th>\n",
       "      <td>25</td>\n",
       "      <td>SMB</td>\n",
       "      <td>Site Analytics</td>\n",
       "      <td>1685</td>\n",
       "    </tr>\n",
       "    <tr>\n",
       "      <th>7</th>\n",
       "      <td>16</td>\n",
       "      <td>SMB</td>\n",
       "      <td>ChatBot Plugin</td>\n",
       "      <td>1625</td>\n",
       "    </tr>\n",
       "    <tr>\n",
       "      <th>8</th>\n",
       "      <td>21</td>\n",
       "      <td>SMB</td>\n",
       "      <td>Marketing Suite - Gold</td>\n",
       "      <td>1619</td>\n",
       "    </tr>\n",
       "    <tr>\n",
       "      <th>9</th>\n",
       "      <td>18</td>\n",
       "      <td>SMB</td>\n",
       "      <td>Data Smasher</td>\n",
       "      <td>1578</td>\n",
       "    </tr>\n",
       "    <tr>\n",
       "      <th>10</th>\n",
       "      <td>3</td>\n",
       "      <td>Enterprise</td>\n",
       "      <td>ContactMatcher</td>\n",
       "      <td>1331</td>\n",
       "    </tr>\n",
       "    <tr>\n",
       "      <th>11</th>\n",
       "      <td>33</td>\n",
       "      <td>Strategic</td>\n",
       "      <td>FinanceHub</td>\n",
       "      <td>1117</td>\n",
       "    </tr>\n",
       "    <tr>\n",
       "      <th>12</th>\n",
       "      <td>13</td>\n",
       "      <td>Enterprise</td>\n",
       "      <td>Support</td>\n",
       "      <td>1107</td>\n",
       "    </tr>\n",
       "    <tr>\n",
       "      <th>13</th>\n",
       "      <td>37</td>\n",
       "      <td>Strategic</td>\n",
       "      <td>SaaS Connector Pack</td>\n",
       "      <td>1086</td>\n",
       "    </tr>\n",
       "    <tr>\n",
       "      <th>14</th>\n",
       "      <td>39</td>\n",
       "      <td>Strategic</td>\n",
       "      <td>Site Analytics</td>\n",
       "      <td>1003</td>\n",
       "    </tr>\n",
       "    <tr>\n",
       "      <th>15</th>\n",
       "      <td>35</td>\n",
       "      <td>Strategic</td>\n",
       "      <td>Marketing Suite - Gold</td>\n",
       "      <td>1000</td>\n",
       "    </tr>\n",
       "    <tr>\n",
       "      <th>16</th>\n",
       "      <td>22</td>\n",
       "      <td>SMB</td>\n",
       "      <td>OneView</td>\n",
       "      <td>908</td>\n",
       "    </tr>\n",
       "    <tr>\n",
       "      <th>17</th>\n",
       "      <td>32</td>\n",
       "      <td>Strategic</td>\n",
       "      <td>Data Smasher</td>\n",
       "      <td>881</td>\n",
       "    </tr>\n",
       "    <tr>\n",
       "      <th>18</th>\n",
       "      <td>30</td>\n",
       "      <td>Strategic</td>\n",
       "      <td>ChatBot Plugin</td>\n",
       "      <td>850</td>\n",
       "    </tr>\n",
       "    <tr>\n",
       "      <th>19</th>\n",
       "      <td>5</td>\n",
       "      <td>Enterprise</td>\n",
       "      <td>FinanceHub</td>\n",
       "      <td>690</td>\n",
       "    </tr>\n",
       "    <tr>\n",
       "      <th>20</th>\n",
       "      <td>9</td>\n",
       "      <td>Enterprise</td>\n",
       "      <td>SaaS Connector Pack</td>\n",
       "      <td>643</td>\n",
       "    </tr>\n",
       "    <tr>\n",
       "      <th>21</th>\n",
       "      <td>11</td>\n",
       "      <td>Enterprise</td>\n",
       "      <td>Site Analytics</td>\n",
       "      <td>601</td>\n",
       "    </tr>\n",
       "    <tr>\n",
       "      <th>22</th>\n",
       "      <td>36</td>\n",
       "      <td>Strategic</td>\n",
       "      <td>OneView</td>\n",
       "      <td>569</td>\n",
       "    </tr>\n",
       "    <tr>\n",
       "      <th>23</th>\n",
       "      <td>7</td>\n",
       "      <td>Enterprise</td>\n",
       "      <td>Marketing Suite - Gold</td>\n",
       "      <td>539</td>\n",
       "    </tr>\n",
       "    <tr>\n",
       "      <th>24</th>\n",
       "      <td>2</td>\n",
       "      <td>Enterprise</td>\n",
       "      <td>ChatBot Plugin</td>\n",
       "      <td>525</td>\n",
       "    </tr>\n",
       "    <tr>\n",
       "      <th>25</th>\n",
       "      <td>4</td>\n",
       "      <td>Enterprise</td>\n",
       "      <td>Data Smasher</td>\n",
       "      <td>517</td>\n",
       "    </tr>\n",
       "    <tr>\n",
       "      <th>26</th>\n",
       "      <td>20</td>\n",
       "      <td>SMB</td>\n",
       "      <td>Marketing Suite</td>\n",
       "      <td>496</td>\n",
       "    </tr>\n",
       "    <tr>\n",
       "      <th>27</th>\n",
       "      <td>26</td>\n",
       "      <td>SMB</td>\n",
       "      <td>Storage</td>\n",
       "      <td>473</td>\n",
       "    </tr>\n",
       "    <tr>\n",
       "      <th>28</th>\n",
       "      <td>24</td>\n",
       "      <td>SMB</td>\n",
       "      <td>SaaS Connector Pack - Gold</td>\n",
       "      <td>442</td>\n",
       "    </tr>\n",
       "    <tr>\n",
       "      <th>29</th>\n",
       "      <td>38</td>\n",
       "      <td>Strategic</td>\n",
       "      <td>SaaS Connector Pack - Gold</td>\n",
       "      <td>323</td>\n",
       "    </tr>\n",
       "    <tr>\n",
       "      <th>30</th>\n",
       "      <td>40</td>\n",
       "      <td>Strategic</td>\n",
       "      <td>Storage</td>\n",
       "      <td>273</td>\n",
       "    </tr>\n",
       "    <tr>\n",
       "      <th>31</th>\n",
       "      <td>34</td>\n",
       "      <td>Strategic</td>\n",
       "      <td>Marketing Suite</td>\n",
       "      <td>271</td>\n",
       "    </tr>\n",
       "    <tr>\n",
       "      <th>32</th>\n",
       "      <td>8</td>\n",
       "      <td>Enterprise</td>\n",
       "      <td>OneView</td>\n",
       "      <td>252</td>\n",
       "    </tr>\n",
       "    <tr>\n",
       "      <th>33</th>\n",
       "      <td>15</td>\n",
       "      <td>SMB</td>\n",
       "      <td>Big Ol Database</td>\n",
       "      <td>217</td>\n",
       "    </tr>\n",
       "    <tr>\n",
       "      <th>34</th>\n",
       "      <td>12</td>\n",
       "      <td>Enterprise</td>\n",
       "      <td>Storage</td>\n",
       "      <td>168</td>\n",
       "    </tr>\n",
       "    <tr>\n",
       "      <th>35</th>\n",
       "      <td>10</td>\n",
       "      <td>Enterprise</td>\n",
       "      <td>SaaS Connector Pack - Gold</td>\n",
       "      <td>141</td>\n",
       "    </tr>\n",
       "    <tr>\n",
       "      <th>36</th>\n",
       "      <td>29</td>\n",
       "      <td>Strategic</td>\n",
       "      <td>Big Ol Database</td>\n",
       "      <td>141</td>\n",
       "    </tr>\n",
       "    <tr>\n",
       "      <th>37</th>\n",
       "      <td>14</td>\n",
       "      <td>SMB</td>\n",
       "      <td>Alchemy</td>\n",
       "      <td>117</td>\n",
       "    </tr>\n",
       "    <tr>\n",
       "      <th>38</th>\n",
       "      <td>6</td>\n",
       "      <td>Enterprise</td>\n",
       "      <td>Marketing Suite</td>\n",
       "      <td>101</td>\n",
       "    </tr>\n",
       "    <tr>\n",
       "      <th>39</th>\n",
       "      <td>1</td>\n",
       "      <td>Enterprise</td>\n",
       "      <td>Big Ol Database</td>\n",
       "      <td>82</td>\n",
       "    </tr>\n",
       "    <tr>\n",
       "      <th>40</th>\n",
       "      <td>28</td>\n",
       "      <td>Strategic</td>\n",
       "      <td>Alchemy</td>\n",
       "      <td>70</td>\n",
       "    </tr>\n",
       "    <tr>\n",
       "      <th>41</th>\n",
       "      <td>0</td>\n",
       "      <td>Enterprise</td>\n",
       "      <td>Alchemy</td>\n",
       "      <td>47</td>\n",
       "    </tr>\n",
       "  </tbody>\n",
       "</table>\n",
       "</div>"
      ],
      "text/plain": [
       "    index     Segment                     Product  Quantity\n",
       "0      17         SMB              ContactMatcher      3617\n",
       "1      27         SMB                     Support      2961\n",
       "2      31   Strategic              ContactMatcher      2267\n",
       "3      19         SMB                  FinanceHub      1949\n",
       "4      23         SMB         SaaS Connector Pack      1834\n",
       "5      41   Strategic                     Support      1757\n",
       "6      25         SMB              Site Analytics      1685\n",
       "7      16         SMB              ChatBot Plugin      1625\n",
       "8      21         SMB      Marketing Suite - Gold      1619\n",
       "9      18         SMB                Data Smasher      1578\n",
       "10      3  Enterprise              ContactMatcher      1331\n",
       "11     33   Strategic                  FinanceHub      1117\n",
       "12     13  Enterprise                     Support      1107\n",
       "13     37   Strategic         SaaS Connector Pack      1086\n",
       "14     39   Strategic              Site Analytics      1003\n",
       "15     35   Strategic      Marketing Suite - Gold      1000\n",
       "16     22         SMB                     OneView       908\n",
       "17     32   Strategic                Data Smasher       881\n",
       "18     30   Strategic              ChatBot Plugin       850\n",
       "19      5  Enterprise                  FinanceHub       690\n",
       "20      9  Enterprise         SaaS Connector Pack       643\n",
       "21     11  Enterprise              Site Analytics       601\n",
       "22     36   Strategic                     OneView       569\n",
       "23      7  Enterprise      Marketing Suite - Gold       539\n",
       "24      2  Enterprise              ChatBot Plugin       525\n",
       "25      4  Enterprise                Data Smasher       517\n",
       "26     20         SMB             Marketing Suite       496\n",
       "27     26         SMB                     Storage       473\n",
       "28     24         SMB  SaaS Connector Pack - Gold       442\n",
       "29     38   Strategic  SaaS Connector Pack - Gold       323\n",
       "30     40   Strategic                     Storage       273\n",
       "31     34   Strategic             Marketing Suite       271\n",
       "32      8  Enterprise                     OneView       252\n",
       "33     15         SMB             Big Ol Database       217\n",
       "34     12  Enterprise                     Storage       168\n",
       "35     10  Enterprise  SaaS Connector Pack - Gold       141\n",
       "36     29   Strategic             Big Ol Database       141\n",
       "37     14         SMB                     Alchemy       117\n",
       "38      6  Enterprise             Marketing Suite       101\n",
       "39      1  Enterprise             Big Ol Database        82\n",
       "40     28   Strategic                     Alchemy        70\n",
       "41      0  Enterprise                     Alchemy        47"
      ]
     },
     "execution_count": 79,
     "metadata": {},
     "output_type": "execute_result"
    }
   ],
   "source": [
    "dfSegment = df.groupby(['Segment', 'Product'])['Quantity'].sum().reset_index()\n",
    "# dfSegment\n",
    "dfSegment = dfSegment.sort_values('Quantity',ascending = False).reset_index()\n",
    "dfSegment\n",
    "# dfSegment = (df.query(\"Segment == 'SMB'\")[['Product','Quantity']]).groupby('Quantity').sum()\n",
    "# dfSegment = dfSegment.sort_values('Quantity',ascending = False).head(3).reset_index()\n",
    "# dfSegment"
   ]
  },
  {
   "cell_type": "raw",
   "metadata": {},
   "source": [
    "Dari data di atas, terdapat 3 produk teratas dari segment SMB, yaitu \"ContactMatcher\", \"Support\" dan \"Finance Hub\". Maka produk-produk tersebut harus menjadi perhatian untuk semakin ditingkatkan."
   ]
  },
  {
   "cell_type": "markdown",
   "metadata": {},
   "source": [
    "# Analisa Margin Profit Produk\n",
    "Analisa berikutnya adalah menentukan produk-produk dengan profit margin tinggi dan rendah: \n",
    "1. Mengelompokkan produk serta menampilkan data profit dan penjualannya. \n",
    "2. Mencari persentase profit marginnya dan mengurutkannya dari yang terkecil sampai yang terbesar \n",
    "3. Mencari produk dengan presentase profit margin tertinggi dan terendah4. "
   ]
  },
  {
   "cell_type": "code",
   "execution_count": 80,
   "metadata": {},
   "outputs": [
    {
     "data": {
      "text/html": [
       "<div>\n",
       "<style scoped>\n",
       "    .dataframe tbody tr th:only-of-type {\n",
       "        vertical-align: middle;\n",
       "    }\n",
       "\n",
       "    .dataframe tbody tr th {\n",
       "        vertical-align: top;\n",
       "    }\n",
       "\n",
       "    .dataframe thead th {\n",
       "        text-align: right;\n",
       "    }\n",
       "</style>\n",
       "<table border=\"1\" class=\"dataframe\">\n",
       "  <thead>\n",
       "    <tr style=\"text-align: right;\">\n",
       "      <th></th>\n",
       "      <th>Profit</th>\n",
       "      <th>Sales</th>\n",
       "    </tr>\n",
       "    <tr>\n",
       "      <th>Product</th>\n",
       "      <th></th>\n",
       "      <th></th>\n",
       "    </tr>\n",
       "  </thead>\n",
       "  <tbody>\n",
       "    <tr>\n",
       "      <th>Alchemy</th>\n",
       "      <td>55617.8249</td>\n",
       "      <td>149528.0300</td>\n",
       "    </tr>\n",
       "    <tr>\n",
       "      <th>Site Analytics</th>\n",
       "      <td>44515.7306</td>\n",
       "      <td>330007.0540</td>\n",
       "    </tr>\n",
       "    <tr>\n",
       "      <th>Data Smasher</th>\n",
       "      <td>41936.6357</td>\n",
       "      <td>167380.3180</td>\n",
       "    </tr>\n",
       "    <tr>\n",
       "      <th>Support</th>\n",
       "      <td>32864.4698</td>\n",
       "      <td>125152.7440</td>\n",
       "    </tr>\n",
       "    <tr>\n",
       "      <th>FinanceHub</th>\n",
       "      <td>32136.4203</td>\n",
       "      <td>340935.4150</td>\n",
       "    </tr>\n",
       "    <tr>\n",
       "      <th>Marketing Suite - Gold</th>\n",
       "      <td>21278.8264</td>\n",
       "      <td>223843.6080</td>\n",
       "    </tr>\n",
       "    <tr>\n",
       "      <th>OneView</th>\n",
       "      <td>18138.0054</td>\n",
       "      <td>107532.1610</td>\n",
       "    </tr>\n",
       "    <tr>\n",
       "      <th>SaaS Connector Pack</th>\n",
       "      <td>13059.1436</td>\n",
       "      <td>91705.1640</td>\n",
       "    </tr>\n",
       "    <tr>\n",
       "      <th>ContactMatcher</th>\n",
       "      <td>12496.2822</td>\n",
       "      <td>410378.2650</td>\n",
       "    </tr>\n",
       "    <tr>\n",
       "      <th>SaaS Connector Pack - Gold</th>\n",
       "      <td>6964.1767</td>\n",
       "      <td>16476.4020</td>\n",
       "    </tr>\n",
       "    <tr>\n",
       "      <th>ChatBot Plugin</th>\n",
       "      <td>6527.7870</td>\n",
       "      <td>27118.7920</td>\n",
       "    </tr>\n",
       "    <tr>\n",
       "      <th>Big Ol Database</th>\n",
       "      <td>3384.7569</td>\n",
       "      <td>189238.6310</td>\n",
       "    </tr>\n",
       "    <tr>\n",
       "      <th>Storage</th>\n",
       "      <td>949.5182</td>\n",
       "      <td>3024.2800</td>\n",
       "    </tr>\n",
       "    <tr>\n",
       "      <th>Marketing Suite</th>\n",
       "      <td>-3472.5560</td>\n",
       "      <td>114879.9963</td>\n",
       "    </tr>\n",
       "  </tbody>\n",
       "</table>\n",
       "</div>"
      ],
      "text/plain": [
       "                                Profit        Sales\n",
       "Product                                            \n",
       "Alchemy                     55617.8249  149528.0300\n",
       "Site Analytics              44515.7306  330007.0540\n",
       "Data Smasher                41936.6357  167380.3180\n",
       "Support                     32864.4698  125152.7440\n",
       "FinanceHub                  32136.4203  340935.4150\n",
       "Marketing Suite - Gold      21278.8264  223843.6080\n",
       "OneView                     18138.0054  107532.1610\n",
       "SaaS Connector Pack         13059.1436   91705.1640\n",
       "ContactMatcher              12496.2822  410378.2650\n",
       "SaaS Connector Pack - Gold   6964.1767   16476.4020\n",
       "ChatBot Plugin               6527.7870   27118.7920\n",
       "Big Ol Database              3384.7569  189238.6310\n",
       "Storage                       949.5182    3024.2800\n",
       "Marketing Suite             -3472.5560  114879.9963"
      ]
     },
     "execution_count": 80,
     "metadata": {},
     "output_type": "execute_result"
    }
   ],
   "source": [
    "# Mengelompokkan produk serta menampilkan data profit dan penjualannya.\n",
    "dfProfitMargin = df.groupby('Product')[['Profit','Sales']].sum()\n",
    "dfProfitMargin.sort_values('Profit',ascending = False)"
   ]
  },
  {
   "cell_type": "markdown",
   "metadata": {},
   "source": [
    "Dari data di atas, dapat dilihat bahwa produk \"Alchemy\" memiliki profit terbesar, diikuti oleh produk \"Site Analytics\",\n",
    "'data smasher' dan lainnya. Namun apakan margin profitnya juga terbesar?"
   ]
  },
  {
   "cell_type": "code",
   "execution_count": 81,
   "metadata": {},
   "outputs": [
    {
     "data": {
      "image/png": "[encoded data removed]",
      "text/plain": [
       "<Figure size 432x288 with 1 Axes>"
      ]
     },
     "metadata": {
      "needs_background": "light"
     },
     "output_type": "display_data"
    }
   ],
   "source": [
    "# Mencari persentase profit marginnya dan mengurutkannya dari yang terkecil sampai yang terbesar \n",
    "dfProfitMargin ['Percentage of Margin'] = ((dfProfitMargin['Profit']/dfProfitMargin['Sales'])*100).round(2)\n",
    "dfProfitMargin = dfProfitMargin.sort_values('Percentage of Margin',ascending = False).head(3).reset_index()\n",
    "\n",
    "sns.barplot(data = dfProfitMargin, x = 'Product', y = 'Percentage of Margin', estimator = np.median)\n",
    "plt.title('Barplot: Product vs % Margin', size = 15)\n",
    "plt.show()"
   ]
  },
  {
   "cell_type": "markdown",
   "metadata": {},
   "source": [
    "Dari histogram diatas, dapat dilihat bahwa produk 'SaaS Connector Pack-Gold' memiliki persentase Margin Keuntungan yang terbesar. Diikuti Alchemy dan storage. Walaupun ketika di urutkan berdasarkan jumlah profit, produk \"Saas Connector Pack - Gold\" memiliki profit yang tidak terlalu besar, namun penjualannya yang kecil mengIsyaratkan margin profit yang besar.\n",
    "Analisa berikutnya adalah apakah produk-produk tersebut mengalami kenaikan percentage margin profit dari tahun ke tahun?"
   ]
  },
  {
   "cell_type": "code",
   "execution_count": 82,
   "metadata": {},
   "outputs": [],
   "source": [
    "df ['Percentage of Margin'] = ((df['Profit']/df['Sales'])*100).round(2)\n",
    "df['Order Year'] = df['Order Date'].dt.year\n",
    "marginProfitProductByYear = df.groupby(['Product','Order Year'])['Percentage of Margin'].sum().reset_index()"
   ]
  },
  {
   "cell_type": "code",
   "execution_count": 83,
   "metadata": {},
   "outputs": [
    {
     "data": {
      "image/png": "[encoded data removed]",
      "text/plain": [
       "<Figure size 720x432 with 1 Axes>"
      ]
     },
     "metadata": {
      "needs_background": "light"
     },
     "output_type": "display_data"
    }
   ],
   "source": [
    "productsToPlot = ['SaaS Connector Pack - Gold', 'Alchemy','Storage']\n",
    "filteredData = marginProfitProductByYear[marginProfitProductByYear['Product'].isin(productsToPlot)]\n",
    "plt.figure(figsize=(10, 6))\n",
    "for product in productsToPlot:\n",
    "    productData = filteredData[filteredData['Product'] == product]\n",
    "    plt.plot(productData['Order Year'], productData['Percentage of Margin'], label=f'Product {product}', marker='o')\n",
    "\n",
    "plt.xlabel('Order Year')\n",
    "plt.ylabel('Percentage of Margin')\n",
    "plt.title('Margin Percentage Trends for Selected Products Over Years')\n",
    "plt.legend(loc = 'lower right')\n",
    "plt.grid(True)\n",
    "plt.show()"
   ]
  },
  {
   "cell_type": "markdown",
   "metadata": {},
   "source": [
    "Pada grafik di atas, tiga produk dengan persentase margin teratas memiliki tren kenaikan margin profit. Tiga produk tersebut harus menjadi perhatian lebih untuk meninggkatkan persentase margin perusahaan "
   ]
  },
  {
   "cell_type": "markdown",
   "metadata": {},
   "source": [
    "Kemudian dilakukan analisa dinegara mana saja penjualan produk 'SaaS Connector Pack-Gold' memiliki margin profit yang besar?"
   ]
  },
  {
   "cell_type": "code",
   "execution_count": 84,
   "metadata": {},
   "outputs": [
    {
     "data": {
      "text/html": [
       "<div>\n",
       "<style scoped>\n",
       "    .dataframe tbody tr th:only-of-type {\n",
       "        vertical-align: middle;\n",
       "    }\n",
       "\n",
       "    .dataframe tbody tr th {\n",
       "        vertical-align: top;\n",
       "    }\n",
       "\n",
       "    .dataframe thead th {\n",
       "        text-align: right;\n",
       "    }\n",
       "</style>\n",
       "<table border=\"1\" class=\"dataframe\">\n",
       "  <thead>\n",
       "    <tr style=\"text-align: right;\">\n",
       "      <th></th>\n",
       "      <th>Country</th>\n",
       "      <th>Profit</th>\n",
       "      <th>Sales</th>\n",
       "      <th>Percentage of Margin</th>\n",
       "    </tr>\n",
       "  </thead>\n",
       "  <tbody>\n",
       "    <tr>\n",
       "      <th>0</th>\n",
       "      <td>Portugal</td>\n",
       "      <td>52.6248</td>\n",
       "      <td>105.84</td>\n",
       "      <td>49.72</td>\n",
       "    </tr>\n",
       "    <tr>\n",
       "      <th>1</th>\n",
       "      <td>Czech Republic</td>\n",
       "      <td>30.8092</td>\n",
       "      <td>62.30</td>\n",
       "      <td>49.45</td>\n",
       "    </tr>\n",
       "    <tr>\n",
       "      <th>2</th>\n",
       "      <td>Luxembourg</td>\n",
       "      <td>14.9744</td>\n",
       "      <td>30.56</td>\n",
       "      <td>49.00</td>\n",
       "    </tr>\n",
       "  </tbody>\n",
       "</table>\n",
       "</div>"
      ],
      "text/plain": [
       "          Country   Profit   Sales  Percentage of Margin\n",
       "0        Portugal  52.6248  105.84                 49.72\n",
       "1  Czech Republic  30.8092   62.30                 49.45\n",
       "2      Luxembourg  14.9744   30.56                 49.00"
      ]
     },
     "execution_count": 84,
     "metadata": {},
     "output_type": "execute_result"
    }
   ],
   "source": [
    "dfSaasConhigh = (df.query(\"Product == 'SaaS Connector Pack - Gold'\")[['Country','Profit','Sales']]).groupby('Country').sum()\n",
    "dfSaasConhigh['Percentage of Margin'] = ((dfSaasConhigh['Profit']/dfSaasConhigh['Sales'])*100).round(2)\n",
    "dfSaasConhigh = dfSaasConhigh.sort_values('Percentage of Margin',ascending = False).head(3).reset_index()\n",
    "dfSaasConhigh"
   ]
  },
  {
   "cell_type": "code",
   "execution_count": 85,
   "metadata": {},
   "outputs": [
    {
     "data": {
      "image/png": "[encoded data removed]",
      "text/plain": [
       "<Figure size 432x288 with 1 Axes>"
      ]
     },
     "metadata": {
      "needs_background": "light"
     },
     "output_type": "display_data"
    }
   ],
   "source": [
    "sns.barplot(data = dfSaasConhigh, x = 'Country', y = 'Percentage of Margin', estimator = np.median)\n",
    "plt.title('Barplot: Country vs % Margin', size = 15)\n",
    "plt.show()"
   ]
  },
  {
   "cell_type": "raw",
   "metadata": {},
   "source": [
    "Dari bar plot di atas, tiga negara yang memiliki penjualan produk'SaaS Connector Pack-Gold' yang tinggi adalah portugal, Republik Ceko dan Luxemberg. Tiga negara ini harus mendapatkan perhatian lebih untuk meningkatkan penjualan perusahaan"
   ]
  },
  {
   "cell_type": "markdown",
   "metadata": {},
   "source": [
    "Kemudian dilakukan analisa dinegara mana saja penjualan produk 'SaaS Connector Pack-Gold' memiliki margin profit rendah?"
   ]
  },
  {
   "cell_type": "code",
   "execution_count": 86,
   "metadata": {},
   "outputs": [
    {
     "data": {
      "text/html": [
       "<div>\n",
       "<style scoped>\n",
       "    .dataframe tbody tr th:only-of-type {\n",
       "        vertical-align: middle;\n",
       "    }\n",
       "\n",
       "    .dataframe tbody tr th {\n",
       "        vertical-align: top;\n",
       "    }\n",
       "\n",
       "    .dataframe thead th {\n",
       "        text-align: right;\n",
       "    }\n",
       "</style>\n",
       "<table border=\"1\" class=\"dataframe\">\n",
       "  <thead>\n",
       "    <tr style=\"text-align: right;\">\n",
       "      <th></th>\n",
       "      <th>Country</th>\n",
       "      <th>Profit</th>\n",
       "      <th>Sales</th>\n",
       "      <th>Percentage of Margin</th>\n",
       "    </tr>\n",
       "  </thead>\n",
       "  <tbody>\n",
       "    <tr>\n",
       "      <th>0</th>\n",
       "      <td>France</td>\n",
       "      <td>417.1003</td>\n",
       "      <td>1234.064</td>\n",
       "      <td>33.80</td>\n",
       "    </tr>\n",
       "    <tr>\n",
       "      <th>1</th>\n",
       "      <td>Japan</td>\n",
       "      <td>848.1760</td>\n",
       "      <td>2530.648</td>\n",
       "      <td>33.52</td>\n",
       "    </tr>\n",
       "    <tr>\n",
       "      <th>2</th>\n",
       "      <td>Sweden</td>\n",
       "      <td>139.7061</td>\n",
       "      <td>431.144</td>\n",
       "      <td>32.40</td>\n",
       "    </tr>\n",
       "  </tbody>\n",
       "</table>\n",
       "</div>"
      ],
      "text/plain": [
       "  Country    Profit     Sales  Percentage of Margin\n",
       "0  France  417.1003  1234.064                 33.80\n",
       "1   Japan  848.1760  2530.648                 33.52\n",
       "2  Sweden  139.7061   431.144                 32.40"
      ]
     },
     "execution_count": 86,
     "metadata": {},
     "output_type": "execute_result"
    }
   ],
   "source": [
    "dfSaasConlow = (df.query(\"Product == 'SaaS Connector Pack - Gold'\")[['Country','Profit','Sales']]).groupby('Country').sum()\n",
    "dfSaasConlow['Percentage of Margin'] = ((dfSaasConlow['Profit']/dfSaasConlow['Sales'])*100).round(2)\n",
    "dfSaasConlow = dfSaasConlow.sort_values('Percentage of Margin',ascending = False).tail(3).reset_index()\n",
    "dfSaasConlow"
   ]
  },
  {
   "cell_type": "code",
   "execution_count": 87,
   "metadata": {},
   "outputs": [
    {
     "data": {
      "image/png": "[encoded data removed]",
      "text/plain": [
       "<Figure size 432x288 with 1 Axes>"
      ]
     },
     "metadata": {
      "needs_background": "light"
     },
     "output_type": "display_data"
    }
   ],
   "source": [
    "sns.barplot(data = dfSaasConlow, x = 'Country', y = 'Percentage of Margin', estimator = np.median)\n",
    "plt.title('Barplot: Country vs % Margin', size = 15)\n",
    "plt.show()"
   ]
  },
  {
   "cell_type": "raw",
   "metadata": {},
   "source": [
    "Dari bar plot di atas, tiga negara yang memiliki penjualan produk k 'SaaS Connector Pack-Gold' yang rendah adalah Frence, Japan dan Swedia. Tiga negara ini juga harus mendapatkan perhatian lebih untuk meningkatkan margin profit perusahaan."
   ]
  },
  {
   "cell_type": "raw",
   "metadata": {},
   "source": [
    "Untuk mempermudah pengamatan, maka data-data di atas akan ditampilkan dalam folium map"
   ]
  },
  {
   "cell_type": "code",
   "execution_count": 88,
   "metadata": {},
   "outputs": [
    {
     "data": {
      "text/html": [
       "<div>\n",
       "<style scoped>\n",
       "    .dataframe tbody tr th:only-of-type {\n",
       "        vertical-align: middle;\n",
       "    }\n",
       "\n",
       "    .dataframe tbody tr th {\n",
       "        vertical-align: top;\n",
       "    }\n",
       "\n",
       "    .dataframe thead th {\n",
       "        text-align: right;\n",
       "    }\n",
       "</style>\n",
       "<table border=\"1\" class=\"dataframe\">\n",
       "  <thead>\n",
       "    <tr style=\"text-align: right;\">\n",
       "      <th></th>\n",
       "      <th>Country</th>\n",
       "      <th>Profit</th>\n",
       "      <th>Sales</th>\n",
       "      <th>Percentage of Margin</th>\n",
       "    </tr>\n",
       "  </thead>\n",
       "  <tbody>\n",
       "    <tr>\n",
       "      <th>0</th>\n",
       "      <td>Portugal</td>\n",
       "      <td>52.6248</td>\n",
       "      <td>105.840</td>\n",
       "      <td>49.72</td>\n",
       "    </tr>\n",
       "    <tr>\n",
       "      <th>1</th>\n",
       "      <td>Czech Republic</td>\n",
       "      <td>30.8092</td>\n",
       "      <td>62.300</td>\n",
       "      <td>49.45</td>\n",
       "    </tr>\n",
       "    <tr>\n",
       "      <th>2</th>\n",
       "      <td>Luxembourg</td>\n",
       "      <td>14.9744</td>\n",
       "      <td>30.560</td>\n",
       "      <td>49.00</td>\n",
       "    </tr>\n",
       "    <tr>\n",
       "      <th>0</th>\n",
       "      <td>France</td>\n",
       "      <td>417.1003</td>\n",
       "      <td>1234.064</td>\n",
       "      <td>33.80</td>\n",
       "    </tr>\n",
       "    <tr>\n",
       "      <th>1</th>\n",
       "      <td>Japan</td>\n",
       "      <td>848.1760</td>\n",
       "      <td>2530.648</td>\n",
       "      <td>33.52</td>\n",
       "    </tr>\n",
       "    <tr>\n",
       "      <th>2</th>\n",
       "      <td>Sweden</td>\n",
       "      <td>139.7061</td>\n",
       "      <td>431.144</td>\n",
       "      <td>32.40</td>\n",
       "    </tr>\n",
       "  </tbody>\n",
       "</table>\n",
       "</div>"
      ],
      "text/plain": [
       "          Country    Profit     Sales  Percentage of Margin\n",
       "0        Portugal   52.6248   105.840                 49.72\n",
       "1  Czech Republic   30.8092    62.300                 49.45\n",
       "2      Luxembourg   14.9744    30.560                 49.00\n",
       "0          France  417.1003  1234.064                 33.80\n",
       "1           Japan  848.1760  2530.648                 33.52\n",
       "2          Sweden  139.7061   431.144                 32.40"
      ]
     },
     "execution_count": 88,
     "metadata": {},
     "output_type": "execute_result"
    }
   ],
   "source": [
    "# Full Table join\n",
    "concateSaasCon = pd.concat([dfSaasConhigh,dfSaasConlow])\n",
    "concateSaasCon"
   ]
  },
  {
   "cell_type": "code",
   "execution_count": 89,
   "metadata": {},
   "outputs": [
    {
     "data": {
      "text/html": [
       "<div style=\"width:100%;\"><div style=\"position:relative;width:100%;height:0;padding-bottom:60%;\"><span style=\"color:#565656\">Make this Notebook Trusted to load map: File -> Trust Notebook</span><iframe srcdoc=\"&lt;!DOCTYPE html&gt;\n",
       "&lt;html&gt;\n",
       "&lt;head&gt;\n",
       "    \n",
       "    &lt;meta http-equiv=&quot;content-type&quot; content=&quot;text/html; charset=UTF-8&quot; /&gt;\n",
       "    \n",
       "        &lt;script&gt;\n",
       "            L_NO_TOUCH = false;\n",
       "            L_DISABLE_3D = false;\n",
       "        &lt;/script&gt;\n",
       "    \n",
       "    &lt;style&gt;html, body {width: 100%;height: 100%;margin: 0;padding: 0;}&lt;/style&gt;\n",
       "    &lt;style&gt;#map {position:absolute;top:0;bottom:0;right:0;left:0;}&lt;/style&gt;\n",
       "    &lt;script src=&quot;https://cdn.jsdelivr.net/npm/leaflet@1.9.3/dist/leaflet.js&quot;&gt;&lt;/script&gt;\n",
       "    &lt;script src=&quot;https://code.jquery.com/jquery-3.7.1.min.js&quot;&gt;&lt;/script&gt;\n",
       "    &lt;script src=&quot;https://cdn.jsdelivr.net/npm/bootstrap@5.2.2/dist/js/bootstrap.bundle.min.js&quot;&gt;&lt;/script&gt;\n",
       "    &lt;script src=&quot;https://cdnjs.cloudflare.com/ajax/libs/Leaflet.awesome-markers/2.0.2/leaflet.awesome-markers.js&quot;&gt;&lt;/script&gt;\n",
       "    &lt;link rel=&quot;stylesheet&quot; href=&quot;https://cdn.jsdelivr.net/npm/leaflet@1.9.3/dist/leaflet.css&quot;/&gt;\n",
       "    &lt;link rel=&quot;stylesheet&quot; href=&quot;https://cdn.jsdelivr.net/npm/bootstrap@5.2.2/dist/css/bootstrap.min.css&quot;/&gt;\n",
       "    &lt;link rel=&quot;stylesheet&quot; href=&quot;https://netdna.bootstrapcdn.com/bootstrap/3.0.0/css/bootstrap.min.css&quot;/&gt;\n",
       "    &lt;link rel=&quot;stylesheet&quot; href=&quot;https://cdn.jsdelivr.net/npm/@fortawesome/fontawesome-free@6.2.0/css/all.min.css&quot;/&gt;\n",
       "    &lt;link rel=&quot;stylesheet&quot; href=&quot;https://cdnjs.cloudflare.com/ajax/libs/Leaflet.awesome-markers/2.0.2/leaflet.awesome-markers.css&quot;/&gt;\n",
       "    &lt;link rel=&quot;stylesheet&quot; href=&quot;https://cdn.jsdelivr.net/gh/python-visualization/folium/folium/templates/leaflet.awesome.rotate.min.css&quot;/&gt;\n",
       "    \n",
       "            &lt;meta name=&quot;viewport&quot; content=&quot;width=device-width,\n",
       "                initial-scale=1.0, maximum-scale=1.0, user-scalable=no&quot; /&gt;\n",
       "            &lt;style&gt;\n",
       "                #map_f73341a9987f83aff8198e9a4573ddae {\n",
       "                    position: relative;\n",
       "                    width: 100.0%;\n",
       "                    height: 100.0%;\n",
       "                    left: 0.0%;\n",
       "                    top: 0.0%;\n",
       "                }\n",
       "                .leaflet-container { font-size: 1rem; }\n",
       "            &lt;/style&gt;\n",
       "        \n",
       "&lt;/head&gt;\n",
       "&lt;body&gt;\n",
       "    \n",
       "    \n",
       "            &lt;div class=&quot;folium-map&quot; id=&quot;map_f73341a9987f83aff8198e9a4573ddae&quot; &gt;&lt;/div&gt;\n",
       "        \n",
       "&lt;/body&gt;\n",
       "&lt;script&gt;\n",
       "    \n",
       "    \n",
       "            var map_f73341a9987f83aff8198e9a4573ddae = L.map(\n",
       "                &quot;map_f73341a9987f83aff8198e9a4573ddae&quot;,\n",
       "                {\n",
       "                    center: [20.0, 0.0],\n",
       "                    crs: L.CRS.EPSG3857,\n",
       "                    zoom: 2,\n",
       "                    zoomControl: true,\n",
       "                    preferCanvas: false,\n",
       "                }\n",
       "            );\n",
       "\n",
       "            \n",
       "\n",
       "        \n",
       "    \n",
       "            var tile_layer_b2968c02ad193e2293747217e8b2ec40 = L.tileLayer(\n",
       "                &quot;https://tile.openstreetmap.org/{z}/{x}/{y}.png&quot;,\n",
       "                {&quot;attribution&quot;: &quot;\\u0026copy; \\u003ca href=\\&quot;https://www.openstreetmap.org/copyright\\&quot;\\u003eOpenStreetMap\\u003c/a\\u003e contributors&quot;, &quot;detectRetina&quot;: false, &quot;maxNativeZoom&quot;: 19, &quot;maxZoom&quot;: 19, &quot;minZoom&quot;: 0, &quot;noWrap&quot;: false, &quot;opacity&quot;: 1, &quot;subdomains&quot;: &quot;abc&quot;, &quot;tms&quot;: false}\n",
       "            );\n",
       "        \n",
       "    \n",
       "            tile_layer_b2968c02ad193e2293747217e8b2ec40.addTo(map_f73341a9987f83aff8198e9a4573ddae);\n",
       "        \n",
       "    \n",
       "            var marker_c7294928fd7e21d6627b1e5c1b917711 = L.marker(\n",
       "                [39.6621648, -8.1353519],\n",
       "                {}\n",
       "            ).addTo(map_f73341a9987f83aff8198e9a4573ddae);\n",
       "        \n",
       "    \n",
       "        var popup_0fa286316298ea053a2e6284bde2d001 = L.popup({&quot;maxWidth&quot;: &quot;100%&quot;});\n",
       "\n",
       "        \n",
       "            \n",
       "                var html_acece9afb42d4c3f2d072704875d71df = $(`&lt;div id=&quot;html_acece9afb42d4c3f2d072704875d71df&quot; style=&quot;width: 100.0%; height: 100.0%;&quot;&gt;Portugal: 49.72%&lt;/div&gt;`)[0];\n",
       "                popup_0fa286316298ea053a2e6284bde2d001.setContent(html_acece9afb42d4c3f2d072704875d71df);\n",
       "            \n",
       "        \n",
       "\n",
       "        marker_c7294928fd7e21d6627b1e5c1b917711.bindPopup(popup_0fa286316298ea053a2e6284bde2d001)\n",
       "        ;\n",
       "\n",
       "        \n",
       "    \n",
       "    \n",
       "            var marker_0757fa35c1ba9c3171d39a5e4c174887 = L.marker(\n",
       "                [49.7439047, 15.3381061],\n",
       "                {}\n",
       "            ).addTo(map_f73341a9987f83aff8198e9a4573ddae);\n",
       "        \n",
       "    \n",
       "        var popup_c2ac8f3697793bbbbbcfe6c7f132db72 = L.popup({&quot;maxWidth&quot;: &quot;100%&quot;});\n",
       "\n",
       "        \n",
       "            \n",
       "                var html_2940d8581898136552a9d3d79d567339 = $(`&lt;div id=&quot;html_2940d8581898136552a9d3d79d567339&quot; style=&quot;width: 100.0%; height: 100.0%;&quot;&gt;Czech Republic: 49.45%&lt;/div&gt;`)[0];\n",
       "                popup_c2ac8f3697793bbbbbcfe6c7f132db72.setContent(html_2940d8581898136552a9d3d79d567339);\n",
       "            \n",
       "        \n",
       "\n",
       "        marker_0757fa35c1ba9c3171d39a5e4c174887.bindPopup(popup_c2ac8f3697793bbbbbcfe6c7f132db72)\n",
       "        ;\n",
       "\n",
       "        \n",
       "    \n",
       "    \n",
       "            var marker_a3e5e7c5a7e015c1016a1795037c0c06 = L.marker(\n",
       "                [49.6112768, 6.129799],\n",
       "                {}\n",
       "            ).addTo(map_f73341a9987f83aff8198e9a4573ddae);\n",
       "        \n",
       "    \n",
       "        var popup_01be95c79acaccc4313d0b5bcb15033a = L.popup({&quot;maxWidth&quot;: &quot;100%&quot;});\n",
       "\n",
       "        \n",
       "            \n",
       "                var html_31fde4999ea1cba5cd503205171b5ae6 = $(`&lt;div id=&quot;html_31fde4999ea1cba5cd503205171b5ae6&quot; style=&quot;width: 100.0%; height: 100.0%;&quot;&gt;Luxembourg: 49.0%&lt;/div&gt;`)[0];\n",
       "                popup_01be95c79acaccc4313d0b5bcb15033a.setContent(html_31fde4999ea1cba5cd503205171b5ae6);\n",
       "            \n",
       "        \n",
       "\n",
       "        marker_a3e5e7c5a7e015c1016a1795037c0c06.bindPopup(popup_01be95c79acaccc4313d0b5bcb15033a)\n",
       "        ;\n",
       "\n",
       "        \n",
       "    \n",
       "    \n",
       "            var marker_d3c54837af54b76baba1b9f9699c4b16 = L.marker(\n",
       "                [46.603354, 1.8883335],\n",
       "                {}\n",
       "            ).addTo(map_f73341a9987f83aff8198e9a4573ddae);\n",
       "        \n",
       "    \n",
       "        var popup_76669fe0f44ac08f3d3a6f294dcb2d86 = L.popup({&quot;maxWidth&quot;: &quot;100%&quot;});\n",
       "\n",
       "        \n",
       "            \n",
       "                var html_b18ff02265833603c4dbc4af8beb9c29 = $(`&lt;div id=&quot;html_b18ff02265833603c4dbc4af8beb9c29&quot; style=&quot;width: 100.0%; height: 100.0%;&quot;&gt;France: 33.8%&lt;/div&gt;`)[0];\n",
       "                popup_76669fe0f44ac08f3d3a6f294dcb2d86.setContent(html_b18ff02265833603c4dbc4af8beb9c29);\n",
       "            \n",
       "        \n",
       "\n",
       "        marker_d3c54837af54b76baba1b9f9699c4b16.bindPopup(popup_76669fe0f44ac08f3d3a6f294dcb2d86)\n",
       "        ;\n",
       "\n",
       "        \n",
       "    \n",
       "    \n",
       "            var marker_e6cf73030c6c7021fde4b6cc87fa280d = L.marker(\n",
       "                [36.5748441, 139.2394179],\n",
       "                {}\n",
       "            ).addTo(map_f73341a9987f83aff8198e9a4573ddae);\n",
       "        \n",
       "    \n",
       "        var popup_8767f8a821fd4a47358ff8b8caa46bc7 = L.popup({&quot;maxWidth&quot;: &quot;100%&quot;});\n",
       "\n",
       "        \n",
       "            \n",
       "                var html_b1b1de108c8e00bd2014934921e8d342 = $(`&lt;div id=&quot;html_b1b1de108c8e00bd2014934921e8d342&quot; style=&quot;width: 100.0%; height: 100.0%;&quot;&gt;Japan: 33.52%&lt;/div&gt;`)[0];\n",
       "                popup_8767f8a821fd4a47358ff8b8caa46bc7.setContent(html_b1b1de108c8e00bd2014934921e8d342);\n",
       "            \n",
       "        \n",
       "\n",
       "        marker_e6cf73030c6c7021fde4b6cc87fa280d.bindPopup(popup_8767f8a821fd4a47358ff8b8caa46bc7)\n",
       "        ;\n",
       "\n",
       "        \n",
       "    \n",
       "    \n",
       "            var marker_6ad919ad61ea259988455d0ff01c8460 = L.marker(\n",
       "                [59.6749712, 14.5208584],\n",
       "                {}\n",
       "            ).addTo(map_f73341a9987f83aff8198e9a4573ddae);\n",
       "        \n",
       "    \n",
       "        var popup_d28e2427957c355492326847afe34ede = L.popup({&quot;maxWidth&quot;: &quot;100%&quot;});\n",
       "\n",
       "        \n",
       "            \n",
       "                var html_c5e3b928121b694caef8690e6fd4ea4e = $(`&lt;div id=&quot;html_c5e3b928121b694caef8690e6fd4ea4e&quot; style=&quot;width: 100.0%; height: 100.0%;&quot;&gt;Sweden: 32.4%&lt;/div&gt;`)[0];\n",
       "                popup_d28e2427957c355492326847afe34ede.setContent(html_c5e3b928121b694caef8690e6fd4ea4e);\n",
       "            \n",
       "        \n",
       "\n",
       "        marker_6ad919ad61ea259988455d0ff01c8460.bindPopup(popup_d28e2427957c355492326847afe34ede)\n",
       "        ;\n",
       "\n",
       "        \n",
       "    \n",
       "&lt;/script&gt;\n",
       "&lt;/html&gt;\" style=\"position:absolute;width:100%;height:100%;left:0;top:0;border:none !important;\" allowfullscreen webkitallowfullscreen mozallowfullscreen></iframe></div></div>"
      ],
      "text/plain": [
       "<folium.folium.Map at 0x19b2a133070>"
      ]
     },
     "execution_count": 89,
     "metadata": {},
     "output_type": "execute_result"
    }
   ],
   "source": [
    "# Penentuan longitude dan latitude 6 negara di atas\n",
    "def geocodeCountry(countryName):\n",
    "    geolocator = Nominatim(user_agent=\"my_geocoder\")\n",
    "    location = geolocator.geocode(countryName)\n",
    "    if location:\n",
    "        return location.latitude, location.longitude\n",
    "    else:\n",
    "        return None, None\n",
    "    \n",
    "# Folium map\n",
    "map = folium.Map(location=[20, 0], zoom_start=2)\n",
    "for index, row in concateSaasCon.iterrows():\n",
    "    countryName = row['Country']\n",
    "    margin = row['Percentage of Margin']\n",
    "    latitude, longitude = geocodeCountry(countryName)\n",
    "    \n",
    "    if latitude is not None and longitude is not None:\n",
    "        popupText = f\"{countryName}: {margin}%\"\n",
    "        folium.Marker(location=[latitude, longitude], popup=popupText).add_to(map)\n",
    "\n",
    "# Menampilkan Map\n",
    "map\n"
   ]
  },
  {
   "cell_type": "markdown",
   "metadata": {},
   "source": [
    "Sementara untuk produk \"marketing suit\", terdapat profit yang negative. Atau bisa dikatakan mengalami kerugian. Kemudian,\n",
    "kita analisa di negara mana memiliki percentage of margin negative!"
   ]
  },
  {
   "cell_type": "code",
   "execution_count": 91,
   "metadata": {
    "scrolled": false
   },
   "outputs": [
    {
     "data": {
      "image/png": "[encoded data removed]",
      "text/plain": [
       "<Figure size 432x288 with 1 Axes>"
      ]
     },
     "metadata": {
      "needs_background": "light"
     },
     "output_type": "display_data"
    }
   ],
   "source": [
    "dfMarketingSuit = (df.query(\"Product == 'Marketing Suite'\")[['Country','Profit','Sales']]).groupby('Country').sum()\n",
    "dfMarketingSuit['Percentage of Margin'] = ((dfMarketingSuit['Profit']/dfMarketingSuit['Sales'])*100).round(2)\n",
    "dfMarketingSuit = dfMarketingSuit.sort_values('Percentage of Margin',ascending = False).tail(3).reset_index()\n",
    "\n",
    "sns.barplot(data = dfMarketingSuit, x = 'Country', y = 'Percentage of Margin', estimator = np.median)\n",
    "plt.title('Barplot: Country vs % Margin', size = 15)\n",
    "plt.show()"
   ]
  },
  {
   "cell_type": "markdown",
   "metadata": {},
   "source": [
    "Dari data di atas, kita bisa lihat bahwa terdapat 3 negara dengan margin profit negative yang artinya mengalami kerugian. Tiga negara terbawah adalah Belgia, Chile dan Russia. Negara - Negara Tersebut harus memiliki analisa starategi penjualan lebih lanjut"
   ]
  },
  {
   "cell_type": "markdown",
   "metadata": {},
   "source": [
    "# Analisa Industri\n",
    "Analisa ini dilakukan untuk:\n",
    "1. Menentukan industri mana yang mencetak profit tertinggi. Kemudian, dari industri tersebut, ditentukan produk mana saja yang mencetak profit tertinggi. Selanjutnya, kita akan menganalisa konsistensi produk dari industri dengan profit tertinggi dari tahun ke tahun\n",
    "2. Analisa perilaku pelanggan berdasarkan industri\n",
    "3. Analisa retensi pelanggan berdasarkan industri"
   ]
  },
  {
   "cell_type": "raw",
   "metadata": {},
   "source": [
    "Analisa 1: Menentukan industri mana yang mencetak profit tertinggi"
   ]
  },
  {
   "cell_type": "code",
   "execution_count": 92,
   "metadata": {},
   "outputs": [
    {
     "data": {
      "text/html": [
       "<div>\n",
       "<style scoped>\n",
       "    .dataframe tbody tr th:only-of-type {\n",
       "        vertical-align: middle;\n",
       "    }\n",
       "\n",
       "    .dataframe tbody tr th {\n",
       "        vertical-align: top;\n",
       "    }\n",
       "\n",
       "    .dataframe thead th {\n",
       "        text-align: right;\n",
       "    }\n",
       "</style>\n",
       "<table border=\"1\" class=\"dataframe\">\n",
       "  <thead>\n",
       "    <tr style=\"text-align: right;\">\n",
       "      <th></th>\n",
       "      <th>Industry</th>\n",
       "      <th>Profit</th>\n",
       "    </tr>\n",
       "  </thead>\n",
       "  <tbody>\n",
       "    <tr>\n",
       "      <th>3</th>\n",
       "      <td>Finance</td>\n",
       "      <td>50348.9696</td>\n",
       "    </tr>\n",
       "    <tr>\n",
       "      <th>2</th>\n",
       "      <td>Energy</td>\n",
       "      <td>45282.3137</td>\n",
       "    </tr>\n",
       "    <tr>\n",
       "      <th>5</th>\n",
       "      <td>Manufacturing</td>\n",
       "      <td>38413.1064</td>\n",
       "    </tr>\n",
       "    <tr>\n",
       "      <th>1</th>\n",
       "      <td>Consumer Products</td>\n",
       "      <td>37018.0077</td>\n",
       "    </tr>\n",
       "    <tr>\n",
       "      <th>4</th>\n",
       "      <td>Healthcare</td>\n",
       "      <td>31969.0932</td>\n",
       "    </tr>\n",
       "    <tr>\n",
       "      <th>7</th>\n",
       "      <td>Retail</td>\n",
       "      <td>30207.8208</td>\n",
       "    </tr>\n",
       "    <tr>\n",
       "      <th>8</th>\n",
       "      <td>Tech</td>\n",
       "      <td>24615.0436</td>\n",
       "    </tr>\n",
       "    <tr>\n",
       "      <th>0</th>\n",
       "      <td>Communications</td>\n",
       "      <td>13976.3410</td>\n",
       "    </tr>\n",
       "    <tr>\n",
       "      <th>9</th>\n",
       "      <td>Transportation</td>\n",
       "      <td>7402.6967</td>\n",
       "    </tr>\n",
       "    <tr>\n",
       "      <th>6</th>\n",
       "      <td>Misc</td>\n",
       "      <td>7163.6290</td>\n",
       "    </tr>\n",
       "  </tbody>\n",
       "</table>\n",
       "</div>"
      ],
      "text/plain": [
       "            Industry      Profit\n",
       "3            Finance  50348.9696\n",
       "2             Energy  45282.3137\n",
       "5      Manufacturing  38413.1064\n",
       "1  Consumer Products  37018.0077\n",
       "4         Healthcare  31969.0932\n",
       "7             Retail  30207.8208\n",
       "8               Tech  24615.0436\n",
       "0     Communications  13976.3410\n",
       "9     Transportation   7402.6967\n",
       "6               Misc   7163.6290"
      ]
     },
     "execution_count": 92,
     "metadata": {},
     "output_type": "execute_result"
    }
   ],
   "source": [
    "totalSales = (df.groupby('Industry')['Profit'].sum().reset_index()).sort_values('Profit',ascending = False)\n",
    "totalSales"
   ]
  },
  {
   "cell_type": "raw",
   "metadata": {},
   "source": [
    "Dari data diatas, industri \"Finance\" memiliki profit paling tinngi. Kemudian, dari industri \"Finance\" tersebut, dianalisa produk dengan profit tertinggi"
   ]
  },
  {
   "cell_type": "code",
   "execution_count": 93,
   "metadata": {},
   "outputs": [
    {
     "data": {
      "text/html": [
       "<div>\n",
       "<style scoped>\n",
       "    .dataframe tbody tr th:only-of-type {\n",
       "        vertical-align: middle;\n",
       "    }\n",
       "\n",
       "    .dataframe tbody tr th {\n",
       "        vertical-align: top;\n",
       "    }\n",
       "\n",
       "    .dataframe thead th {\n",
       "        text-align: right;\n",
       "    }\n",
       "</style>\n",
       "<table border=\"1\" class=\"dataframe\">\n",
       "  <thead>\n",
       "    <tr style=\"text-align: right;\">\n",
       "      <th></th>\n",
       "      <th>Product</th>\n",
       "      <th>Profit</th>\n",
       "    </tr>\n",
       "  </thead>\n",
       "  <tbody>\n",
       "    <tr>\n",
       "      <th>0</th>\n",
       "      <td>Alchemy</td>\n",
       "      <td>10181.8673</td>\n",
       "    </tr>\n",
       "    <tr>\n",
       "      <th>1</th>\n",
       "      <td>Site Analytics</td>\n",
       "      <td>8549.7565</td>\n",
       "    </tr>\n",
       "    <tr>\n",
       "      <th>2</th>\n",
       "      <td>FinanceHub</td>\n",
       "      <td>7801.7706</td>\n",
       "    </tr>\n",
       "    <tr>\n",
       "      <th>3</th>\n",
       "      <td>Support</td>\n",
       "      <td>7702.7251</td>\n",
       "    </tr>\n",
       "    <tr>\n",
       "      <th>4</th>\n",
       "      <td>Data Smasher</td>\n",
       "      <td>7535.7010</td>\n",
       "    </tr>\n",
       "    <tr>\n",
       "      <th>5</th>\n",
       "      <td>Marketing Suite - Gold</td>\n",
       "      <td>5810.1607</td>\n",
       "    </tr>\n",
       "    <tr>\n",
       "      <th>6</th>\n",
       "      <td>OneView</td>\n",
       "      <td>4805.3794</td>\n",
       "    </tr>\n",
       "    <tr>\n",
       "      <th>7</th>\n",
       "      <td>SaaS Connector Pack</td>\n",
       "      <td>3285.5393</td>\n",
       "    </tr>\n",
       "    <tr>\n",
       "      <th>8</th>\n",
       "      <td>ChatBot Plugin</td>\n",
       "      <td>1976.1304</td>\n",
       "    </tr>\n",
       "    <tr>\n",
       "      <th>9</th>\n",
       "      <td>SaaS Connector Pack - Gold</td>\n",
       "      <td>1926.3983</td>\n",
       "    </tr>\n",
       "    <tr>\n",
       "      <th>10</th>\n",
       "      <td>Storage</td>\n",
       "      <td>117.7518</td>\n",
       "    </tr>\n",
       "    <tr>\n",
       "      <th>11</th>\n",
       "      <td>Marketing Suite</td>\n",
       "      <td>-1775.7980</td>\n",
       "    </tr>\n",
       "    <tr>\n",
       "      <th>12</th>\n",
       "      <td>Big Ol Database</td>\n",
       "      <td>-1982.7960</td>\n",
       "    </tr>\n",
       "    <tr>\n",
       "      <th>13</th>\n",
       "      <td>ContactMatcher</td>\n",
       "      <td>-5585.6168</td>\n",
       "    </tr>\n",
       "  </tbody>\n",
       "</table>\n",
       "</div>"
      ],
      "text/plain": [
       "                       Product      Profit\n",
       "0                      Alchemy  10181.8673\n",
       "1               Site Analytics   8549.7565\n",
       "2                   FinanceHub   7801.7706\n",
       "3                      Support   7702.7251\n",
       "4                 Data Smasher   7535.7010\n",
       "5       Marketing Suite - Gold   5810.1607\n",
       "6                      OneView   4805.3794\n",
       "7          SaaS Connector Pack   3285.5393\n",
       "8               ChatBot Plugin   1976.1304\n",
       "9   SaaS Connector Pack - Gold   1926.3983\n",
       "10                     Storage    117.7518\n",
       "11             Marketing Suite  -1775.7980\n",
       "12             Big Ol Database  -1982.7960\n",
       "13              ContactMatcher  -5585.6168"
      ]
     },
     "execution_count": 93,
     "metadata": {},
     "output_type": "execute_result"
    }
   ],
   "source": [
    "dfFinance = (df.query(\"Industry == 'Finance'\")[['Profit','Product']]).groupby('Product').sum()\n",
    "dfFinance = dfFinance.sort_values('Profit',ascending = False).reset_index()\n",
    "dfFinance"
   ]
  },
  {
   "cell_type": "raw",
   "metadata": {},
   "source": [
    "Apakah 3 produk tertinggi pada tabel di atas konsisten setiap tahun mencetak profit tertinggi?"
   ]
  },
  {
   "cell_type": "code",
   "execution_count": 94,
   "metadata": {},
   "outputs": [],
   "source": [
    "df['Order Year'] = df['Order Date'].dt.year\n",
    "profitProductByYear = df.groupby(['Product', 'Order Year'])['Profit'].sum().reset_index()"
   ]
  },
  {
   "cell_type": "code",
   "execution_count": 95,
   "metadata": {},
   "outputs": [
    {
     "data": {
      "image/png": "[encoded data removed]",
      "text/plain": [
       "<Figure size 720x432 with 1 Axes>"
      ]
     },
     "metadata": {
      "needs_background": "light"
     },
     "output_type": "display_data"
    }
   ],
   "source": [
    "productsToPlot = ['Alchemy','Site Analytics','FinanceHub']\n",
    "filteredData = profitProductByYear[profitProductByYear['Product'].isin(productsToPlot)]\n",
    "plt.figure(figsize=(10, 6))\n",
    "for product in productsToPlot:\n",
    "    productData = filteredData[filteredData['Product'] == product]\n",
    "    plt.plot(productData['Order Year'], productData['Profit'], label=f'Product {product}', marker='o')\n",
    "\n",
    "plt.xlabel('Order Year')\n",
    "plt.ylabel('Profit')\n",
    "plt.title('Margin Percentage Trends for Selected Products Over Years')\n",
    "plt.legend(loc = 'lower right')\n",
    "plt.grid(True)\n",
    "plt.show()"
   ]
  },
  {
   "cell_type": "raw",
   "metadata": {},
   "source": [
    "Dari grafik di atas, diketahui bahwa produk \"Alchemy\" mencetak profit yang terus meningkat dari tahun ke tahun. Sedangkan untuk dua produk lainnya, cendrung konsisten untuk profit yang dihasilkan Inilah yang membuat industri finance mencetak profit tertinggi."
   ]
  },
  {
   "cell_type": "raw",
   "metadata": {},
   "source": [
    "Bagaimana dengan konsistensi tiga produk terbawah? "
   ]
  },
  {
   "cell_type": "code",
   "execution_count": 96,
   "metadata": {},
   "outputs": [
    {
     "data": {
      "image/png": "[encoded data removed]",
      "text/plain": [
       "<Figure size 720x432 with 1 Axes>"
      ]
     },
     "metadata": {
      "needs_background": "light"
     },
     "output_type": "display_data"
    }
   ],
   "source": [
    "productsToPlot = ['Marketing Suite','Big Ol Database','ContactMatcher']\n",
    "filteredData = profitProductByYear[profitProductByYear['Product'].isin(productsToPlot)]\n",
    "plt.figure(figsize=(10, 6))\n",
    "for product in productsToPlot:\n",
    "    productData = filteredData[filteredData['Product'] == product]\n",
    "    plt.plot(productData['Order Year'], productData['Profit'], label=f'Product {product}', marker='o')\n",
    "\n",
    "plt.xlabel('Order Year')\n",
    "plt.ylabel('Profit')\n",
    "plt.title('Margin Percentage Trends for Selected Products Over Years')\n",
    "plt.legend(loc = 'lower right')\n",
    "plt.grid(True)\n",
    "plt.show()"
   ]
  },
  {
   "cell_type": "raw",
   "metadata": {},
   "source": [
    "Untuk produk \"Marketing Suite\" dan \" \"Big Ol Database\" diatas mengalami penurunan profit yang significant di tahun 2023. Sedangkan untuk produk \"ContactMatcher\", cendrung konsisten mencetak kerugian"
   ]
  },
  {
   "cell_type": "raw",
   "metadata": {},
   "source": [
    "Analisa 2:  perilaku industri dalam rata-rata quantitas pemesanan berdasar diskon rata-rata yang diberikan"
   ]
  },
  {
   "cell_type": "code",
   "execution_count": 97,
   "metadata": {},
   "outputs": [
    {
     "data": {
      "text/html": [
       "<div>\n",
       "<style scoped>\n",
       "    .dataframe tbody tr th:only-of-type {\n",
       "        vertical-align: middle;\n",
       "    }\n",
       "\n",
       "    .dataframe tbody tr th {\n",
       "        vertical-align: top;\n",
       "    }\n",
       "\n",
       "    .dataframe thead th {\n",
       "        text-align: right;\n",
       "    }\n",
       "</style>\n",
       "<table border=\"1\" class=\"dataframe\">\n",
       "  <thead>\n",
       "    <tr style=\"text-align: right;\">\n",
       "      <th></th>\n",
       "      <th>Quantity</th>\n",
       "      <th>Discount</th>\n",
       "    </tr>\n",
       "    <tr>\n",
       "      <th>Industry</th>\n",
       "      <th></th>\n",
       "      <th></th>\n",
       "    </tr>\n",
       "  </thead>\n",
       "  <tbody>\n",
       "    <tr>\n",
       "      <th>Communications</th>\n",
       "      <td>3.657673</td>\n",
       "      <td>0.164165</td>\n",
       "    </tr>\n",
       "    <tr>\n",
       "      <th>Consumer Products</th>\n",
       "      <td>3.790402</td>\n",
       "      <td>0.162586</td>\n",
       "    </tr>\n",
       "    <tr>\n",
       "      <th>Energy</th>\n",
       "      <td>3.738602</td>\n",
       "      <td>0.159947</td>\n",
       "    </tr>\n",
       "    <tr>\n",
       "      <th>Tech</th>\n",
       "      <td>3.896440</td>\n",
       "      <td>0.159094</td>\n",
       "    </tr>\n",
       "    <tr>\n",
       "      <th>Transportation</th>\n",
       "      <td>3.923077</td>\n",
       "      <td>0.157179</td>\n",
       "    </tr>\n",
       "    <tr>\n",
       "      <th>Manufacturing</th>\n",
       "      <td>3.752864</td>\n",
       "      <td>0.155385</td>\n",
       "    </tr>\n",
       "    <tr>\n",
       "      <th>Healthcare</th>\n",
       "      <td>3.834128</td>\n",
       "      <td>0.155091</td>\n",
       "    </tr>\n",
       "    <tr>\n",
       "      <th>Finance</th>\n",
       "      <td>3.764457</td>\n",
       "      <td>0.153644</td>\n",
       "    </tr>\n",
       "    <tr>\n",
       "      <th>Retail</th>\n",
       "      <td>3.799383</td>\n",
       "      <td>0.145113</td>\n",
       "    </tr>\n",
       "    <tr>\n",
       "      <th>Misc</th>\n",
       "      <td>3.859813</td>\n",
       "      <td>0.140374</td>\n",
       "    </tr>\n",
       "  </tbody>\n",
       "</table>\n",
       "</div>"
      ],
      "text/plain": [
       "                   Quantity  Discount\n",
       "Industry                             \n",
       "Communications     3.657673  0.164165\n",
       "Consumer Products  3.790402  0.162586\n",
       "Energy             3.738602  0.159947\n",
       "Tech               3.896440  0.159094\n",
       "Transportation     3.923077  0.157179\n",
       "Manufacturing      3.752864  0.155385\n",
       "Healthcare         3.834128  0.155091\n",
       "Finance            3.764457  0.153644\n",
       "Retail             3.799383  0.145113\n",
       "Misc               3.859813  0.140374"
      ]
     },
     "execution_count": 97,
     "metadata": {},
     "output_type": "execute_result"
    }
   ],
   "source": [
    "# Mengelompokkan kuantitas pemesanan dan diskon terhadap industri\n",
    "dfIndustry = df.groupby('Industry')[['Quantity','Discount']].mean()\n",
    "dfIndustry.sort_values('Discount',ascending = False)"
   ]
  },
  {
   "cell_type": "markdown",
   "metadata": {},
   "source": [
    "Dari data di atas, tidak ada korelasi antara kuantitas yang dipesan dengan diskon yang diberikan!"
   ]
  },
  {
   "cell_type": "markdown",
   "metadata": {},
   "source": [
    "Selanjutnya dilakukan evaluasi dampak diskon terhadap volume penjualan dan pendapatan secara keseluruhan!"
   ]
  },
  {
   "cell_type": "code",
   "execution_count": 98,
   "metadata": {},
   "outputs": [
    {
     "name": "stdout",
     "output_type": "stream",
     "text": [
      "Total penjualan dengan diskon: 19606\n",
      "Total penjualan tanpa diskon: 18267\n",
      "Persentase pertambahan total penjualan karena diskon: 7.33%\n"
     ]
    },
    {
     "data": {
      "image/png": "[encoded data removed]",
      "text/plain": [
       "<Figure size 720x432 with 1 Axes>"
      ]
     },
     "metadata": {
      "needs_background": "light"
     },
     "output_type": "display_data"
    }
   ],
   "source": [
    "# Menghitung total penjualan (kuantitas) dengan dan tanpa diskon \n",
    "withDiscount = df[df['Discount'] > 0]['Quantity'].sum()\n",
    "withoutDiscount = df[df['Discount'] == 0]['Quantity'].sum()\n",
    "\n",
    "# Menghitung persentase pertambahan untuk total penjualan dengan dan tanpa diskon\n",
    "percentIncrease = ((withDiscount - withoutDiscount) / withoutDiscount) * 100\n",
    "\n",
    "\n",
    "print(f\"Total penjualan dengan diskon: {withDiscount}\")\n",
    "print(f\"Total penjualan tanpa diskon: {withoutDiscount}\")\n",
    "print(f\"Persentase pertambahan total penjualan karena diskon: {percentIncrease:.2f}%\")\n",
    "\n",
    "labels = ['Dengan Diskon', 'Tanpa Diskon']\n",
    "percentIncrease = [withDiscount, withoutDiscount]\n",
    "\n",
    "plt.figure(figsize=(10, 6))\n",
    "plt.bar(labels, percentIncrease, color=['blue', 'green'])\n",
    "plt.xlabel('Kondisi')\n",
    "plt.ylabel('Total penjualan')\n",
    "plt.title('Dampak diskon terhadap kuantitas')\n",
    "plt.show()"
   ]
  },
  {
   "cell_type": "markdown",
   "metadata": {},
   "source": [
    "Dari data di atas, diketahui bahwa dengan adanya diskon maka total penjualan semakin besar dengan selisih sekitar 7.33%"
   ]
  },
  {
   "cell_type": "raw",
   "metadata": {},
   "source": [
    "Analisa 3:  Analisa Retensi Pelanggan terhadap industri"
   ]
  },
  {
   "cell_type": "code",
   "execution_count": 99,
   "metadata": {},
   "outputs": [
    {
     "data": {
      "image/png": "[encoded data removed]",
      "text/plain": [
       "<Figure size 720x432 with 1 Axes>"
      ]
     },
     "metadata": {
      "needs_background": "light"
     },
     "output_type": "display_data"
    }
   ],
   "source": [
    "customerID = df.groupby('Industry')['Customer ID'].nunique()\n",
    "totalCustomers = customerID.sum()\n",
    "retentionRates = (customerID / totalCustomers) * 100\n",
    "\n",
    "plt.figure(figsize=(10, 6))\n",
    "sns.barplot(x=retentionRates.index, y=retentionRates.values)\n",
    "plt.title('Tingkat Retensi Pelanggan berdasarkan Industri')\n",
    "plt.xlabel('Segment')\n",
    "plt.ylabel('Retensi (%)')\n",
    "plt.xticks(rotation=45)\n",
    "plt.show()"
   ]
  },
  {
   "cell_type": "markdown",
   "metadata": {},
   "source": [
    "Dari data di atas, diketahui bahwa Finance adalah industri dengan laju Retensi yang terbesar, yaitu 20%. Laju retensi yang besar bermakna suatu bisnis mengalami pengurangan pelanggan yang rendah, dimana sebagian besar pelanggan kembali atau melakukan pembelian berulang dari waktu ke waktu. Hal ini mendukung tingkat profit tertinggi dimiliki oleh Finance."
   ]
  },
  {
   "cell_type": "markdown",
   "metadata": {},
   "source": [
    "# Analisa Geografis \n",
    "Analisa selanjutnya adalah menentukan negara-negara dengan total penjualan produk tertinggi"
   ]
  },
  {
   "cell_type": "code",
   "execution_count": 100,
   "metadata": {},
   "outputs": [
    {
     "data": {
      "text/html": [
       "<div>\n",
       "<style scoped>\n",
       "    .dataframe tbody tr th:only-of-type {\n",
       "        vertical-align: middle;\n",
       "    }\n",
       "\n",
       "    .dataframe tbody tr th {\n",
       "        vertical-align: top;\n",
       "    }\n",
       "\n",
       "    .dataframe thead th {\n",
       "        text-align: right;\n",
       "    }\n",
       "</style>\n",
       "<table border=\"1\" class=\"dataframe\">\n",
       "  <thead>\n",
       "    <tr style=\"text-align: right;\">\n",
       "      <th></th>\n",
       "      <th>Country</th>\n",
       "      <th>Sales</th>\n",
       "      <th>Profit</th>\n",
       "      <th>Quantity</th>\n",
       "    </tr>\n",
       "  </thead>\n",
       "  <tbody>\n",
       "    <tr>\n",
       "      <th>47</th>\n",
       "      <td>United States</td>\n",
       "      <td>457687.6315</td>\n",
       "      <td>76381.3871</td>\n",
       "      <td>7667</td>\n",
       "    </tr>\n",
       "    <tr>\n",
       "      <th>46</th>\n",
       "      <td>United Kingdom</td>\n",
       "      <td>313169.8810</td>\n",
       "      <td>74989.0891</td>\n",
       "      <td>4268</td>\n",
       "    </tr>\n",
       "    <tr>\n",
       "      <th>24</th>\n",
       "      <td>Japan</td>\n",
       "      <td>170188.0458</td>\n",
       "      <td>-25729.3563</td>\n",
       "      <td>3724</td>\n",
       "    </tr>\n",
       "  </tbody>\n",
       "</table>\n",
       "</div>"
      ],
      "text/plain": [
       "           Country        Sales      Profit  Quantity\n",
       "47   United States  457687.6315  76381.3871      7667\n",
       "46  United Kingdom  313169.8810  74989.0891      4268\n",
       "24           Japan  170188.0458 -25729.3563      3724"
      ]
     },
     "execution_count": 100,
     "metadata": {},
     "output_type": "execute_result"
    }
   ],
   "source": [
    "# Mengelompokkan jumlah penjualan berdasarkan negaranya.\n",
    "# dfHighestSales = df.groupby('Country')[['Sales']].sum()\n",
    "# dfHighestSales.sort_values('Sales',ascending = False).head(3)\n",
    "dfHighestSales = df.groupby('Country').agg({\n",
    "    'Sales': 'sum',\n",
    "    'Profit': 'sum',\n",
    "    'Quantity': 'sum'\n",
    "}).reset_index()\n",
    "dfHighestSales.sort_values('Sales',ascending = False).head(3)"
   ]
  },
  {
   "cell_type": "markdown",
   "metadata": {},
   "source": [
    "Dari tabel di atas, terdapat tiga negara dengan penjualan tertinggi yaitu US, UK dan Japan. Kemudian dilakukan analisa penjualan produk tertinggi untuk United States."
   ]
  },
  {
   "cell_type": "code",
   "execution_count": 101,
   "metadata": {},
   "outputs": [
    {
     "data": {
      "text/html": [
       "<div>\n",
       "<style scoped>\n",
       "    .dataframe tbody tr th:only-of-type {\n",
       "        vertical-align: middle;\n",
       "    }\n",
       "\n",
       "    .dataframe tbody tr th {\n",
       "        vertical-align: top;\n",
       "    }\n",
       "\n",
       "    .dataframe thead th {\n",
       "        text-align: right;\n",
       "    }\n",
       "</style>\n",
       "<table border=\"1\" class=\"dataframe\">\n",
       "  <thead>\n",
       "    <tr style=\"text-align: right;\">\n",
       "      <th></th>\n",
       "      <th>Product</th>\n",
       "      <th>Sales</th>\n",
       "    </tr>\n",
       "  </thead>\n",
       "  <tbody>\n",
       "    <tr>\n",
       "      <th>0</th>\n",
       "      <td>ContactMatcher</td>\n",
       "      <td>73903.400</td>\n",
       "    </tr>\n",
       "    <tr>\n",
       "      <th>1</th>\n",
       "      <td>Site Analytics</td>\n",
       "      <td>67964.536</td>\n",
       "    </tr>\n",
       "    <tr>\n",
       "      <th>2</th>\n",
       "      <td>FinanceHub</td>\n",
       "      <td>65978.508</td>\n",
       "    </tr>\n",
       "  </tbody>\n",
       "</table>\n",
       "</div>"
      ],
      "text/plain": [
       "          Product      Sales\n",
       "0  ContactMatcher  73903.400\n",
       "1  Site Analytics  67964.536\n",
       "2      FinanceHub  65978.508"
      ]
     },
     "execution_count": 101,
     "metadata": {},
     "output_type": "execute_result"
    }
   ],
   "source": [
    "# Daftar Produk dengan penjualan tinggi pada country sales\n",
    "dfSales = (df.query(\"Country == 'United States'\")[['Product','Sales']]).groupby('Product').sum()\n",
    "dfSales = dfSales.sort_values('Sales',ascending = False).head(3).reset_index()\n",
    "dfSales"
   ]
  },
  {
   "cell_type": "raw",
   "metadata": {},
   "source": [
    "Apakah 3 produk tertinggi pada tabel di atas konsisten setiap tahun mencetak penjualan tertinggi?"
   ]
  },
  {
   "cell_type": "code",
   "execution_count": 102,
   "metadata": {},
   "outputs": [],
   "source": [
    "df['Order Year'] = df['Order Date'].dt.year\n",
    "salesByYear = df.groupby(['Product', 'Order Year'])['Sales'].sum().reset_index()"
   ]
  },
  {
   "cell_type": "code",
   "execution_count": 103,
   "metadata": {},
   "outputs": [
    {
     "data": {
      "image/png": "[encoded data removed]",
      "text/plain": [
       "<Figure size 720x432 with 1 Axes>"
      ]
     },
     "metadata": {
      "needs_background": "light"
     },
     "output_type": "display_data"
    }
   ],
   "source": [
    "productsToPlot = ['ContactMatcher','Site Analytics','FinanceHub']\n",
    "filteredData = salesByYear[salesByYear['Product'].isin(productsToPlot)]\n",
    "plt.figure(figsize=(10, 6))\n",
    "for product in productsToPlot:\n",
    "    productData = filteredData[filteredData['Product'] == product]\n",
    "    plt.plot(productData['Order Year'], productData['Sales'], label=f'Product {product}', marker='o')\n",
    "\n",
    "plt.xlabel('Tahun')\n",
    "plt.ylabel('Penjualan')\n",
    "plt.title('Penjualan terhadap tahun')\n",
    "plt.legend(loc = 'lower right')\n",
    "plt.grid(True)\n",
    "plt.show()"
   ]
  },
  {
   "cell_type": "markdown",
   "metadata": {},
   "source": [
    "Dari grafik di atas, diketahui bahwa adanya penurunan yang tidak drasti pada ketiga produk. Namun, setelah tahun 2021, kenaikan produk \"Contact Macher\" mengalami kenaikan penjualan yang drastis, diikuti produk \"site analitics\" dan \"finance hub\""
   ]
  },
  {
   "cell_type": "markdown",
   "metadata": {},
   "source": [
    "# Analisa Penjualan Terhadap Waktu\n",
    "Analisa terakhir yang akan dilakukan adalah analisa tren penjualan terhadap waktu."
   ]
  },
  {
   "cell_type": "code",
   "execution_count": 104,
   "metadata": {
    "scrolled": true
   },
   "outputs": [
    {
     "data": {
      "image/png": "[encoded data removed]",
      "text/plain": [
       "<Figure size 864x576 with 3 Axes>"
      ]
     },
     "metadata": {
      "needs_background": "light"
     },
     "output_type": "display_data"
    }
   ],
   "source": [
    "df['Order Date'] = pd.to_datetime(df['Order Date'])\n",
    "\n",
    "# 'Tanggal Pemesanan' sebagai indeks\n",
    "df.set_index('Order Date', inplace=True)\n",
    "\n",
    "# Tren penjualan harian\n",
    "daily_sales = df['Sales'].resample('D').sum()\n",
    "\n",
    "# Tren penjualan mingguan\n",
    "weekly_sales = df['Sales'].resample('W').sum()\n",
    "\n",
    "# Tren penjualan bulanan\n",
    "monthly_sales = df['Sales'].resample('M').sum()\n",
    "\n",
    "# Plot tren penjualan sepanjang waktu\n",
    "plt.figure(figsize=(12, 8))\n",
    "\n",
    "# Daily Sales Plot\n",
    "plt.subplot(3, 1, 1)\n",
    "plt.plot(daily_sales, marker='o', color='blue')\n",
    "plt.title('Tren penjualan harian')\n",
    "plt.xlabel('Tanggal')\n",
    "plt.ylabel('Penjualan')\n",
    "plt.grid(True)\n",
    "\n",
    "# Weekly Sales Plot\n",
    "plt.subplot(3, 1, 2)\n",
    "plt.plot(weekly_sales, marker='o', color='green')\n",
    "plt.title('Tren penjualan Mingguan')\n",
    "plt.xlabel('Minggu')\n",
    "plt.ylabel('Penjualan')\n",
    "plt.grid(True)\n",
    "\n",
    "# Monthly Sales Plot\n",
    "plt.subplot(3, 1, 3)\n",
    "plt.plot(monthly_sales, marker='o', color='orange')\n",
    "plt.title('Tren Penjualan Bulanan')\n",
    "plt.xlabel('Bulan')\n",
    "plt.ylabel('Penjualan')\n",
    "plt.grid(True)\n",
    "\n",
    "plt.tight_layout()\n",
    "plt.show()\n"
   ]
  },
  {
   "cell_type": "code",
   "execution_count": null,
   "metadata": {},
   "outputs": [],
   "source": []
  }
 ],
 "metadata": {
  "kernelspec": {
   "display_name": "Python 3",
   "language": "python",
   "name": "python3"
  },
  "language_info": {
   "codemirror_mode": {
    "name": "ipython",
    "version": 3
   },
   "file_extension": ".py",
   "mimetype": "text/x-python",
   "name": "python",
   "nbconvert_exporter": "python",
   "pygments_lexer": "ipython3",
   "version": "3.8.5"
  }
 },
 "nbformat": 4,
 "nbformat_minor": 4
}
